{
  "nbformat": 4,
  "nbformat_minor": 0,
  "metadata": {
    "colab": {
      "provenance": [],
      "toc_visible": true
    },
    "kernelspec": {
      "name": "python3",
      "display_name": "Python 3"
    },
    "language_info": {
      "name": "python"
    }
  },
  "cells": [
    {
      "cell_type": "markdown",
      "source": [
        "# Import Library"
      ],
      "metadata": {
        "id": "1Jh52Te3fHw1"
      }
    },
    {
      "cell_type": "code",
      "execution_count": null,
      "metadata": {
        "id": "5LqvYJJMbSHp"
      },
      "outputs": [],
      "source": [
        "import pandas as pd\n",
        "import numpy as np"
      ]
    },
    {
      "cell_type": "code",
      "source": [
        "from google.colab import drive\n",
        "drive.mount('/content/drive')"
      ],
      "metadata": {
        "colab": {
          "base_uri": "https://localhost:8080/"
        },
        "id": "s9ujls47fND5",
        "outputId": "f9c25708-6a9a-4380-a4ab-a235a847eb08"
      },
      "execution_count": null,
      "outputs": [
        {
          "output_type": "stream",
          "name": "stdout",
          "text": [
            "Mounted at /content/drive\n"
          ]
        }
      ]
    },
    {
      "cell_type": "code",
      "source": [
        "df = pd.read_csv(\"/content/drive/MyDrive/Bismillah SSO 2022/4. Final 1 SSO/Data Final SSO.csv\", sep=';')"
      ],
      "metadata": {
        "id": "8jZCq4o5gXY1"
      },
      "execution_count": null,
      "outputs": []
    },
    {
      "cell_type": "markdown",
      "source": [
        "# Data"
      ],
      "metadata": {
        "id": "Oc6EFXBW9AJs"
      }
    },
    {
      "cell_type": "code",
      "source": [
        "df"
      ],
      "metadata": {
        "colab": {
          "base_uri": "https://localhost:8080/",
          "height": 505
        },
        "id": "zDH5SnRNg2Ao",
        "outputId": "f5ffa5b0-ae94-4883-dbef-e7e29b45b08e"
      },
      "execution_count": null,
      "outputs": [
        {
          "output_type": "execute_result",
          "data": {
            "text/plain": [
              "      PENJUALAN_2021  PENJUALAN_2020 RATIO_BEBAN-PENJUALAN_2021  \\\n",
              "0          149207164       136533758                0,868179851   \n",
              "1           88706100        85686167                0,978566736   \n",
              "2          108887378        78405829                0,060155139   \n",
              "3          133103033       120427245                 0,53161329   \n",
              "4          136475517        86949433                0,229926543   \n",
              "...              ...             ...                        ...   \n",
              "2391        86151462        56251248                0,369941987   \n",
              "2392        79018780        78193480                 0,01899479   \n",
              "2393        66627588        66032969                0,146511009   \n",
              "2394        95551880        85640492                 0,21014919   \n",
              "2395        99608104        98054434                0,105830542   \n",
              "\n",
              "     RATIO_BEBAN-PENJUALAN_2020 SUMBER_LABA_UTAMA_2021 SUMBER_LABA_UTAMA_2020  \\\n",
              "0                   0,855825664           Bidang usaha           Bidang usaha   \n",
              "1                   0,731139801         Bidang Lainnya           Bidang Usaha   \n",
              "2                   0,080935538           Bidang Usaha           Bidang Usaha   \n",
              "3                   0,989462669           Bidang Usaha           Bidang Usaha   \n",
              "4                   0,162016308         Bidang Lainnya         Bidang Lainnya   \n",
              "...                         ...                    ...                    ...   \n",
              "2391                0,552568914           Bidang Usaha           Bidang Usaha   \n",
              "2392                0,183698618           Bidang Usaha           Bidang Usaha   \n",
              "2393                0,396831976           Bidang usaha           Bidang usaha   \n",
              "2394                0,405702799           Bidang Usaha           Bidang Usaha   \n",
              "2395                0,718861168           Bidang Usaha           Bidang Usaha   \n",
              "\n",
              "     LABA_RUGI_2021 LABA_RUGI_2020  LIABILITAS_2021  LIABILITAS_2020  \\\n",
              "0       87607042,61    73173580,71         20792734         84451989   \n",
              "1       56371242,72    48356515,98         24472651         98329359   \n",
              "2       48611150,54    39908732,85         20586078         67450502   \n",
              "3       36119898,81    4587487,935         26786479         79683551   \n",
              "4       57734181,32    49354911,14         33833705         96559757   \n",
              "...             ...            ...              ...              ...   \n",
              "2391    19074713,31    22920941,88         23961701         53247265   \n",
              "2392    25879618,85    565237,1149         25082845         56940385   \n",
              "2393    21646570,07   -257483,0067         25078924         59292382   \n",
              "2394    51529476,88    14684383,04         20033006         48409428   \n",
              "2395    40058502,64    48650697,06         23395404         60059609   \n",
              "\n",
              "      ASET_2021  ASET_2020  KAS_2021  KAS_2020 Performa  \n",
              "0     195406981  183660291   2523754  11437529     baik  \n",
              "1     174655998  199015767  30930175  36333943    buruk  \n",
              "2     182547662  177529646    194345  10186417     baik  \n",
              "3     190119809  185314245  24602549  30149281     baik  \n",
              "4     196396280  195426775   4836727  11705490    buruk  \n",
              "...         ...        ...       ...       ...      ...  \n",
              "2391  144840406  146481761   5372876  14190684     Baik  \n",
              "2392  139684910  158698139  10498928  15529981     Baik  \n",
              "2393  155429675  143044977  21674312  28929122     Baik  \n",
              "2394  151951410  126668888  21753827  29255719     Baik  \n",
              "2395  129680870  156549711  32548905  38738372     Baik  \n",
              "\n",
              "[2396 rows x 15 columns]"
            ],
            "text/html": [
              "\n",
              "  <div id=\"df-8a857192-24df-4005-a6c4-ee4e0913eee9\">\n",
              "    <div class=\"colab-df-container\">\n",
              "      <div>\n",
              "<style scoped>\n",
              "    .dataframe tbody tr th:only-of-type {\n",
              "        vertical-align: middle;\n",
              "    }\n",
              "\n",
              "    .dataframe tbody tr th {\n",
              "        vertical-align: top;\n",
              "    }\n",
              "\n",
              "    .dataframe thead th {\n",
              "        text-align: right;\n",
              "    }\n",
              "</style>\n",
              "<table border=\"1\" class=\"dataframe\">\n",
              "  <thead>\n",
              "    <tr style=\"text-align: right;\">\n",
              "      <th></th>\n",
              "      <th>PENJUALAN_2021</th>\n",
              "      <th>PENJUALAN_2020</th>\n",
              "      <th>RATIO_BEBAN-PENJUALAN_2021</th>\n",
              "      <th>RATIO_BEBAN-PENJUALAN_2020</th>\n",
              "      <th>SUMBER_LABA_UTAMA_2021</th>\n",
              "      <th>SUMBER_LABA_UTAMA_2020</th>\n",
              "      <th>LABA_RUGI_2021</th>\n",
              "      <th>LABA_RUGI_2020</th>\n",
              "      <th>LIABILITAS_2021</th>\n",
              "      <th>LIABILITAS_2020</th>\n",
              "      <th>ASET_2021</th>\n",
              "      <th>ASET_2020</th>\n",
              "      <th>KAS_2021</th>\n",
              "      <th>KAS_2020</th>\n",
              "      <th>Performa</th>\n",
              "    </tr>\n",
              "  </thead>\n",
              "  <tbody>\n",
              "    <tr>\n",
              "      <th>0</th>\n",
              "      <td>149207164</td>\n",
              "      <td>136533758</td>\n",
              "      <td>0,868179851</td>\n",
              "      <td>0,855825664</td>\n",
              "      <td>Bidang usaha</td>\n",
              "      <td>Bidang usaha</td>\n",
              "      <td>87607042,61</td>\n",
              "      <td>73173580,71</td>\n",
              "      <td>20792734</td>\n",
              "      <td>84451989</td>\n",
              "      <td>195406981</td>\n",
              "      <td>183660291</td>\n",
              "      <td>2523754</td>\n",
              "      <td>11437529</td>\n",
              "      <td>baik</td>\n",
              "    </tr>\n",
              "    <tr>\n",
              "      <th>1</th>\n",
              "      <td>88706100</td>\n",
              "      <td>85686167</td>\n",
              "      <td>0,978566736</td>\n",
              "      <td>0,731139801</td>\n",
              "      <td>Bidang Lainnya</td>\n",
              "      <td>Bidang Usaha</td>\n",
              "      <td>56371242,72</td>\n",
              "      <td>48356515,98</td>\n",
              "      <td>24472651</td>\n",
              "      <td>98329359</td>\n",
              "      <td>174655998</td>\n",
              "      <td>199015767</td>\n",
              "      <td>30930175</td>\n",
              "      <td>36333943</td>\n",
              "      <td>buruk</td>\n",
              "    </tr>\n",
              "    <tr>\n",
              "      <th>2</th>\n",
              "      <td>108887378</td>\n",
              "      <td>78405829</td>\n",
              "      <td>0,060155139</td>\n",
              "      <td>0,080935538</td>\n",
              "      <td>Bidang Usaha</td>\n",
              "      <td>Bidang Usaha</td>\n",
              "      <td>48611150,54</td>\n",
              "      <td>39908732,85</td>\n",
              "      <td>20586078</td>\n",
              "      <td>67450502</td>\n",
              "      <td>182547662</td>\n",
              "      <td>177529646</td>\n",
              "      <td>194345</td>\n",
              "      <td>10186417</td>\n",
              "      <td>baik</td>\n",
              "    </tr>\n",
              "    <tr>\n",
              "      <th>3</th>\n",
              "      <td>133103033</td>\n",
              "      <td>120427245</td>\n",
              "      <td>0,53161329</td>\n",
              "      <td>0,989462669</td>\n",
              "      <td>Bidang Usaha</td>\n",
              "      <td>Bidang Usaha</td>\n",
              "      <td>36119898,81</td>\n",
              "      <td>4587487,935</td>\n",
              "      <td>26786479</td>\n",
              "      <td>79683551</td>\n",
              "      <td>190119809</td>\n",
              "      <td>185314245</td>\n",
              "      <td>24602549</td>\n",
              "      <td>30149281</td>\n",
              "      <td>baik</td>\n",
              "    </tr>\n",
              "    <tr>\n",
              "      <th>4</th>\n",
              "      <td>136475517</td>\n",
              "      <td>86949433</td>\n",
              "      <td>0,229926543</td>\n",
              "      <td>0,162016308</td>\n",
              "      <td>Bidang Lainnya</td>\n",
              "      <td>Bidang Lainnya</td>\n",
              "      <td>57734181,32</td>\n",
              "      <td>49354911,14</td>\n",
              "      <td>33833705</td>\n",
              "      <td>96559757</td>\n",
              "      <td>196396280</td>\n",
              "      <td>195426775</td>\n",
              "      <td>4836727</td>\n",
              "      <td>11705490</td>\n",
              "      <td>buruk</td>\n",
              "    </tr>\n",
              "    <tr>\n",
              "      <th>...</th>\n",
              "      <td>...</td>\n",
              "      <td>...</td>\n",
              "      <td>...</td>\n",
              "      <td>...</td>\n",
              "      <td>...</td>\n",
              "      <td>...</td>\n",
              "      <td>...</td>\n",
              "      <td>...</td>\n",
              "      <td>...</td>\n",
              "      <td>...</td>\n",
              "      <td>...</td>\n",
              "      <td>...</td>\n",
              "      <td>...</td>\n",
              "      <td>...</td>\n",
              "      <td>...</td>\n",
              "    </tr>\n",
              "    <tr>\n",
              "      <th>2391</th>\n",
              "      <td>86151462</td>\n",
              "      <td>56251248</td>\n",
              "      <td>0,369941987</td>\n",
              "      <td>0,552568914</td>\n",
              "      <td>Bidang Usaha</td>\n",
              "      <td>Bidang Usaha</td>\n",
              "      <td>19074713,31</td>\n",
              "      <td>22920941,88</td>\n",
              "      <td>23961701</td>\n",
              "      <td>53247265</td>\n",
              "      <td>144840406</td>\n",
              "      <td>146481761</td>\n",
              "      <td>5372876</td>\n",
              "      <td>14190684</td>\n",
              "      <td>Baik</td>\n",
              "    </tr>\n",
              "    <tr>\n",
              "      <th>2392</th>\n",
              "      <td>79018780</td>\n",
              "      <td>78193480</td>\n",
              "      <td>0,01899479</td>\n",
              "      <td>0,183698618</td>\n",
              "      <td>Bidang Usaha</td>\n",
              "      <td>Bidang Usaha</td>\n",
              "      <td>25879618,85</td>\n",
              "      <td>565237,1149</td>\n",
              "      <td>25082845</td>\n",
              "      <td>56940385</td>\n",
              "      <td>139684910</td>\n",
              "      <td>158698139</td>\n",
              "      <td>10498928</td>\n",
              "      <td>15529981</td>\n",
              "      <td>Baik</td>\n",
              "    </tr>\n",
              "    <tr>\n",
              "      <th>2393</th>\n",
              "      <td>66627588</td>\n",
              "      <td>66032969</td>\n",
              "      <td>0,146511009</td>\n",
              "      <td>0,396831976</td>\n",
              "      <td>Bidang usaha</td>\n",
              "      <td>Bidang usaha</td>\n",
              "      <td>21646570,07</td>\n",
              "      <td>-257483,0067</td>\n",
              "      <td>25078924</td>\n",
              "      <td>59292382</td>\n",
              "      <td>155429675</td>\n",
              "      <td>143044977</td>\n",
              "      <td>21674312</td>\n",
              "      <td>28929122</td>\n",
              "      <td>Baik</td>\n",
              "    </tr>\n",
              "    <tr>\n",
              "      <th>2394</th>\n",
              "      <td>95551880</td>\n",
              "      <td>85640492</td>\n",
              "      <td>0,21014919</td>\n",
              "      <td>0,405702799</td>\n",
              "      <td>Bidang Usaha</td>\n",
              "      <td>Bidang Usaha</td>\n",
              "      <td>51529476,88</td>\n",
              "      <td>14684383,04</td>\n",
              "      <td>20033006</td>\n",
              "      <td>48409428</td>\n",
              "      <td>151951410</td>\n",
              "      <td>126668888</td>\n",
              "      <td>21753827</td>\n",
              "      <td>29255719</td>\n",
              "      <td>Baik</td>\n",
              "    </tr>\n",
              "    <tr>\n",
              "      <th>2395</th>\n",
              "      <td>99608104</td>\n",
              "      <td>98054434</td>\n",
              "      <td>0,105830542</td>\n",
              "      <td>0,718861168</td>\n",
              "      <td>Bidang Usaha</td>\n",
              "      <td>Bidang Usaha</td>\n",
              "      <td>40058502,64</td>\n",
              "      <td>48650697,06</td>\n",
              "      <td>23395404</td>\n",
              "      <td>60059609</td>\n",
              "      <td>129680870</td>\n",
              "      <td>156549711</td>\n",
              "      <td>32548905</td>\n",
              "      <td>38738372</td>\n",
              "      <td>Baik</td>\n",
              "    </tr>\n",
              "  </tbody>\n",
              "</table>\n",
              "<p>2396 rows × 15 columns</p>\n",
              "</div>\n",
              "      <button class=\"colab-df-convert\" onclick=\"convertToInteractive('df-8a857192-24df-4005-a6c4-ee4e0913eee9')\"\n",
              "              title=\"Convert this dataframe to an interactive table.\"\n",
              "              style=\"display:none;\">\n",
              "        \n",
              "  <svg xmlns=\"http://www.w3.org/2000/svg\" height=\"24px\"viewBox=\"0 0 24 24\"\n",
              "       width=\"24px\">\n",
              "    <path d=\"M0 0h24v24H0V0z\" fill=\"none\"/>\n",
              "    <path d=\"M18.56 5.44l.94 2.06.94-2.06 2.06-.94-2.06-.94-.94-2.06-.94 2.06-2.06.94zm-11 1L8.5 8.5l.94-2.06 2.06-.94-2.06-.94L8.5 2.5l-.94 2.06-2.06.94zm10 10l.94 2.06.94-2.06 2.06-.94-2.06-.94-.94-2.06-.94 2.06-2.06.94z\"/><path d=\"M17.41 7.96l-1.37-1.37c-.4-.4-.92-.59-1.43-.59-.52 0-1.04.2-1.43.59L10.3 9.45l-7.72 7.72c-.78.78-.78 2.05 0 2.83L4 21.41c.39.39.9.59 1.41.59.51 0 1.02-.2 1.41-.59l7.78-7.78 2.81-2.81c.8-.78.8-2.07 0-2.86zM5.41 20L4 18.59l7.72-7.72 1.47 1.35L5.41 20z\"/>\n",
              "  </svg>\n",
              "      </button>\n",
              "      \n",
              "  <style>\n",
              "    .colab-df-container {\n",
              "      display:flex;\n",
              "      flex-wrap:wrap;\n",
              "      gap: 12px;\n",
              "    }\n",
              "\n",
              "    .colab-df-convert {\n",
              "      background-color: #E8F0FE;\n",
              "      border: none;\n",
              "      border-radius: 50%;\n",
              "      cursor: pointer;\n",
              "      display: none;\n",
              "      fill: #1967D2;\n",
              "      height: 32px;\n",
              "      padding: 0 0 0 0;\n",
              "      width: 32px;\n",
              "    }\n",
              "\n",
              "    .colab-df-convert:hover {\n",
              "      background-color: #E2EBFA;\n",
              "      box-shadow: 0px 1px 2px rgba(60, 64, 67, 0.3), 0px 1px 3px 1px rgba(60, 64, 67, 0.15);\n",
              "      fill: #174EA6;\n",
              "    }\n",
              "\n",
              "    [theme=dark] .colab-df-convert {\n",
              "      background-color: #3B4455;\n",
              "      fill: #D2E3FC;\n",
              "    }\n",
              "\n",
              "    [theme=dark] .colab-df-convert:hover {\n",
              "      background-color: #434B5C;\n",
              "      box-shadow: 0px 1px 3px 1px rgba(0, 0, 0, 0.15);\n",
              "      filter: drop-shadow(0px 1px 2px rgba(0, 0, 0, 0.3));\n",
              "      fill: #FFFFFF;\n",
              "    }\n",
              "  </style>\n",
              "\n",
              "      <script>\n",
              "        const buttonEl =\n",
              "          document.querySelector('#df-8a857192-24df-4005-a6c4-ee4e0913eee9 button.colab-df-convert');\n",
              "        buttonEl.style.display =\n",
              "          google.colab.kernel.accessAllowed ? 'block' : 'none';\n",
              "\n",
              "        async function convertToInteractive(key) {\n",
              "          const element = document.querySelector('#df-8a857192-24df-4005-a6c4-ee4e0913eee9');\n",
              "          const dataTable =\n",
              "            await google.colab.kernel.invokeFunction('convertToInteractive',\n",
              "                                                     [key], {});\n",
              "          if (!dataTable) return;\n",
              "\n",
              "          const docLinkHtml = 'Like what you see? Visit the ' +\n",
              "            '<a target=\"_blank\" href=https://colab.research.google.com/notebooks/data_table.ipynb>data table notebook</a>'\n",
              "            + ' to learn more about interactive tables.';\n",
              "          element.innerHTML = '';\n",
              "          dataTable['output_type'] = 'display_data';\n",
              "          await google.colab.output.renderOutput(dataTable, element);\n",
              "          const docLink = document.createElement('div');\n",
              "          docLink.innerHTML = docLinkHtml;\n",
              "          element.appendChild(docLink);\n",
              "        }\n",
              "      </script>\n",
              "    </div>\n",
              "  </div>\n",
              "  "
            ]
          },
          "metadata": {},
          "execution_count": 4
        }
      ]
    },
    {
      "cell_type": "code",
      "source": [
        "#Bentuk data (row, columns)\n",
        "print (\"Data Final\", df.shape)"
      ],
      "metadata": {
        "colab": {
          "base_uri": "https://localhost:8080/"
        },
        "id": "W1p8Gbo6g3GH",
        "outputId": "7fc3b7d6-a71c-4308-bf04-6d259e0d61b0"
      },
      "execution_count": null,
      "outputs": [
        {
          "output_type": "stream",
          "name": "stdout",
          "text": [
            "Data Final (2396, 15)\n"
          ]
        }
      ]
    },
    {
      "cell_type": "code",
      "source": [
        "df.info()"
      ],
      "metadata": {
        "colab": {
          "base_uri": "https://localhost:8080/"
        },
        "id": "7EGENReehxLC",
        "outputId": "a4d412bd-1fe0-475e-d0de-9b49e7db2c3c"
      },
      "execution_count": null,
      "outputs": [
        {
          "output_type": "stream",
          "name": "stdout",
          "text": [
            "<class 'pandas.core.frame.DataFrame'>\n",
            "RangeIndex: 2396 entries, 0 to 2395\n",
            "Data columns (total 15 columns):\n",
            " #   Column                      Non-Null Count  Dtype \n",
            "---  ------                      --------------  ----- \n",
            " 0   PENJUALAN_2021              2396 non-null   int64 \n",
            " 1   PENJUALAN_2020              2396 non-null   int64 \n",
            " 2   RATIO_BEBAN-PENJUALAN_2021  2396 non-null   object\n",
            " 3   RATIO_BEBAN-PENJUALAN_2020  2396 non-null   object\n",
            " 4   SUMBER_LABA_UTAMA_2021      2396 non-null   object\n",
            " 5   SUMBER_LABA_UTAMA_2020      2396 non-null   object\n",
            " 6   LABA_RUGI_2021              2396 non-null   object\n",
            " 7   LABA_RUGI_2020              2396 non-null   object\n",
            " 8   LIABILITAS_2021             2396 non-null   int64 \n",
            " 9   LIABILITAS_2020             2396 non-null   int64 \n",
            " 10  ASET_2021                   2396 non-null   int64 \n",
            " 11  ASET_2020                   2396 non-null   int64 \n",
            " 12  KAS_2021                    2396 non-null   int64 \n",
            " 13  KAS_2020                    2396 non-null   int64 \n",
            " 14  Performa                    2396 non-null   object\n",
            "dtypes: int64(8), object(7)\n",
            "memory usage: 280.9+ KB\n"
          ]
        }
      ]
    },
    {
      "cell_type": "code",
      "source": [
        "print(\"Distribs Performa UMKM \")\n",
        "df.Performa.value_counts()"
      ],
      "metadata": {
        "colab": {
          "base_uri": "https://localhost:8080/"
        },
        "id": "go7YqBXNh2Jm",
        "outputId": "cc82a834-5f59-4068-8a5a-54d5abaf8143"
      },
      "execution_count": null,
      "outputs": [
        {
          "output_type": "stream",
          "name": "stdout",
          "text": [
            "Distribs Performa UMKM \n"
          ]
        },
        {
          "output_type": "execute_result",
          "data": {
            "text/plain": [
              "buruk    2230\n",
              "baik      133\n",
              "Baik       33\n",
              "Name: Performa, dtype: int64"
            ]
          },
          "metadata": {},
          "execution_count": 7
        }
      ]
    },
    {
      "cell_type": "code",
      "source": [
        "#Jumlah Missing Value\n",
        "print(\"Data Missing Value\")\n",
        "df.isnull().sum().sort_values(ascending=False)"
      ],
      "metadata": {
        "colab": {
          "base_uri": "https://localhost:8080/"
        },
        "id": "abbxQ_LPh_Ib",
        "outputId": "139a1f17-82eb-4ee4-cae8-d10a02929ebf"
      },
      "execution_count": null,
      "outputs": [
        {
          "output_type": "stream",
          "name": "stdout",
          "text": [
            "Data Missing Value\n"
          ]
        },
        {
          "output_type": "execute_result",
          "data": {
            "text/plain": [
              "PENJUALAN_2021                0\n",
              "PENJUALAN_2020                0\n",
              "RATIO_BEBAN-PENJUALAN_2021    0\n",
              "RATIO_BEBAN-PENJUALAN_2020    0\n",
              "SUMBER_LABA_UTAMA_2021        0\n",
              "SUMBER_LABA_UTAMA_2020        0\n",
              "LABA_RUGI_2021                0\n",
              "LABA_RUGI_2020                0\n",
              "LIABILITAS_2021               0\n",
              "LIABILITAS_2020               0\n",
              "ASET_2021                     0\n",
              "ASET_2020                     0\n",
              "KAS_2021                      0\n",
              "KAS_2020                      0\n",
              "Performa                      0\n",
              "dtype: int64"
            ]
          },
          "metadata": {},
          "execution_count": 8
        }
      ]
    },
    {
      "cell_type": "code",
      "source": [
        "#Presentase Missing Value\n",
        "print(\"Data Training\")\n",
        "a = (df.isnull().sum()/len(df)) * 100\n",
        "print(\"Missing Percentage\")\n",
        "a.sort_values(ascending=False)"
      ],
      "metadata": {
        "colab": {
          "base_uri": "https://localhost:8080/"
        },
        "id": "Aojw6iO8iFMO",
        "outputId": "bd4cb5de-a354-49a6-99b9-6927bc601563"
      },
      "execution_count": null,
      "outputs": [
        {
          "output_type": "stream",
          "name": "stdout",
          "text": [
            "Data Training\n",
            "Missing Percentage\n"
          ]
        },
        {
          "output_type": "execute_result",
          "data": {
            "text/plain": [
              "PENJUALAN_2021                0.0\n",
              "PENJUALAN_2020                0.0\n",
              "RATIO_BEBAN-PENJUALAN_2021    0.0\n",
              "RATIO_BEBAN-PENJUALAN_2020    0.0\n",
              "SUMBER_LABA_UTAMA_2021        0.0\n",
              "SUMBER_LABA_UTAMA_2020        0.0\n",
              "LABA_RUGI_2021                0.0\n",
              "LABA_RUGI_2020                0.0\n",
              "LIABILITAS_2021               0.0\n",
              "LIABILITAS_2020               0.0\n",
              "ASET_2021                     0.0\n",
              "ASET_2020                     0.0\n",
              "KAS_2021                      0.0\n",
              "KAS_2020                      0.0\n",
              "Performa                      0.0\n",
              "dtype: float64"
            ]
          },
          "metadata": {},
          "execution_count": 9
        }
      ]
    },
    {
      "cell_type": "code",
      "source": [
        "df.Performa.value_counts()"
      ],
      "metadata": {
        "colab": {
          "base_uri": "https://localhost:8080/"
        },
        "id": "mCIoORBjie_l",
        "outputId": "d77465ef-0fa9-4724-ec9c-be6adfda57c3"
      },
      "execution_count": null,
      "outputs": [
        {
          "output_type": "execute_result",
          "data": {
            "text/plain": [
              "buruk    2230\n",
              "baik      133\n",
              "Baik       33\n",
              "Name: Performa, dtype: int64"
            ]
          },
          "metadata": {},
          "execution_count": 10
        }
      ]
    },
    {
      "cell_type": "code",
      "source": [
        "df.PENJUALAN_2021.value_counts()"
      ],
      "metadata": {
        "colab": {
          "base_uri": "https://localhost:8080/"
        },
        "id": "FXUurmgmikBX",
        "outputId": "fe6a63d3-9f61-4011-a9e7-c9caf67c16b8"
      },
      "execution_count": null,
      "outputs": [
        {
          "output_type": "execute_result",
          "data": {
            "text/plain": [
              "149207164    1\n",
              "85743410     1\n",
              "55572233     1\n",
              "88618317     1\n",
              "78725352     1\n",
              "            ..\n",
              "90047461     1\n",
              "93298978     1\n",
              "92896716     1\n",
              "97200684     1\n",
              "99608104     1\n",
              "Name: PENJUALAN_2021, Length: 2396, dtype: int64"
            ]
          },
          "metadata": {},
          "execution_count": 11
        }
      ]
    },
    {
      "cell_type": "code",
      "source": [
        "df.PENJUALAN_2020.value_counts()"
      ],
      "metadata": {
        "colab": {
          "base_uri": "https://localhost:8080/"
        },
        "id": "UdcFHSXnirra",
        "outputId": "b6f9079d-ea8e-4193-c9f2-7613d0f15718"
      },
      "execution_count": null,
      "outputs": [
        {
          "output_type": "execute_result",
          "data": {
            "text/plain": [
              "136533758    1\n",
              "85759192     1\n",
              "55430545     1\n",
              "88272320     1\n",
              "78351049     1\n",
              "            ..\n",
              "153897010    1\n",
              "157524199    1\n",
              "154341371    1\n",
              "161300008    1\n",
              "98054434     1\n",
              "Name: PENJUALAN_2020, Length: 2396, dtype: int64"
            ]
          },
          "metadata": {},
          "execution_count": 12
        }
      ]
    },
    {
      "cell_type": "code",
      "source": [
        "df['RATIO_BEBAN-PENJUALAN_2021'].value_counts()"
      ],
      "metadata": {
        "colab": {
          "base_uri": "https://localhost:8080/"
        },
        "id": "II0mOawhivPV",
        "outputId": "b90795d0-b3ae-4670-ab0d-a9fb37d08966"
      },
      "execution_count": null,
      "outputs": [
        {
          "output_type": "execute_result",
          "data": {
            "text/plain": [
              "0,868179851    1\n",
              "0,73233243     1\n",
              "0,369820226    1\n",
              "0,120788238    1\n",
              "0,692358238    1\n",
              "              ..\n",
              "0,487775289    1\n",
              "0,447488873    1\n",
              "0,614822738    1\n",
              "0,381431222    1\n",
              "0,105830542    1\n",
              "Name: RATIO_BEBAN-PENJUALAN_2021, Length: 2396, dtype: int64"
            ]
          },
          "metadata": {},
          "execution_count": 13
        }
      ]
    },
    {
      "cell_type": "code",
      "source": [
        "df['RATIO_BEBAN-PENJUALAN_2020'].value_counts()"
      ],
      "metadata": {
        "colab": {
          "base_uri": "https://localhost:8080/"
        },
        "id": "ZrfIX2HwjlHy",
        "outputId": "f8d8ef3d-ce2c-4f06-fe53-479a2962889a"
      },
      "execution_count": null,
      "outputs": [
        {
          "output_type": "execute_result",
          "data": {
            "text/plain": [
              "0,855825664    1\n",
              "0,664243842    1\n",
              "0,155649333    1\n",
              "0,607604688    1\n",
              "0,896973874    1\n",
              "              ..\n",
              "0,84826098     1\n",
              "0,448266261    1\n",
              "0,789463897    1\n",
              "0,330073323    1\n",
              "0,718861168    1\n",
              "Name: RATIO_BEBAN-PENJUALAN_2020, Length: 2396, dtype: int64"
            ]
          },
          "metadata": {},
          "execution_count": 14
        }
      ]
    },
    {
      "cell_type": "code",
      "source": [
        "df.SUMBER_LABA_UTAMA_2021.value_counts()"
      ],
      "metadata": {
        "colab": {
          "base_uri": "https://localhost:8080/"
        },
        "id": "Od8MKW-tjxN_",
        "outputId": "a77351de-e1f1-48e3-e84a-7c21f691ba9d"
      },
      "execution_count": null,
      "outputs": [
        {
          "output_type": "execute_result",
          "data": {
            "text/plain": [
              "Bidang Usaha      1296\n",
              "Bidang usaha       736\n",
              "Bidang Lainnya     360\n",
              "Bidang lainnya       2\n",
              "Bidang Lain          2\n",
              "Name: SUMBER_LABA_UTAMA_2021, dtype: int64"
            ]
          },
          "metadata": {},
          "execution_count": 15
        }
      ]
    },
    {
      "cell_type": "code",
      "source": [
        "df.SUMBER_LABA_UTAMA_2020.value_counts()"
      ],
      "metadata": {
        "colab": {
          "base_uri": "https://localhost:8080/"
        },
        "id": "XpAmo0isjz8I",
        "outputId": "98ab1a1e-5947-48ae-db79-139600be0a1a"
      },
      "execution_count": null,
      "outputs": [
        {
          "output_type": "execute_result",
          "data": {
            "text/plain": [
              "Bidang Usaha      1420\n",
              "Bidang usaha       635\n",
              "Bidang Lainnya     291\n",
              "Bidang Lain         48\n",
              "Bidang lain          2\n",
              "Name: SUMBER_LABA_UTAMA_2020, dtype: int64"
            ]
          },
          "metadata": {},
          "execution_count": 16
        }
      ]
    },
    {
      "cell_type": "code",
      "source": [
        "df.LABA_RUGI_2021.value_counts()"
      ],
      "metadata": {
        "colab": {
          "base_uri": "https://localhost:8080/"
        },
        "id": "OyR4zbSSj1MW",
        "outputId": "07f0267a-ce45-4a6f-df23-1df48924a624"
      },
      "execution_count": null,
      "outputs": [
        {
          "output_type": "execute_result",
          "data": {
            "text/plain": [
              "87607042,61    1\n",
              "33673586,24    1\n",
              "15050426,34    1\n",
              "11618932,88    1\n",
              "33002756,81    1\n",
              "              ..\n",
              "12133137,9     1\n",
              "6859459,85     1\n",
              "41180399,94    1\n",
              "17358526,14    1\n",
              "40058502,64    1\n",
              "Name: LABA_RUGI_2021, Length: 2396, dtype: int64"
            ]
          },
          "metadata": {},
          "execution_count": 17
        }
      ]
    },
    {
      "cell_type": "code",
      "source": [
        "df.LABA_RUGI_2020.value_counts()"
      ],
      "metadata": {
        "colab": {
          "base_uri": "https://localhost:8080/"
        },
        "id": "boni1AFEj_Ga",
        "outputId": "0b4034ec-b2d5-46bf-b3d7-c24e51291af8"
      },
      "execution_count": null,
      "outputs": [
        {
          "output_type": "execute_result",
          "data": {
            "text/plain": [
              "73173580,71     1\n",
              "43305142,09     1\n",
              "-2774349,92     1\n",
              "60162187,24     1\n",
              "47566114,03     1\n",
              "               ..\n",
              "-36823274,92    1\n",
              "68364620,98     1\n",
              "84737249,74     1\n",
              "71066346,34     1\n",
              "48650697,06     1\n",
              "Name: LABA_RUGI_2020, Length: 2396, dtype: int64"
            ]
          },
          "metadata": {},
          "execution_count": 18
        }
      ]
    },
    {
      "cell_type": "code",
      "source": [
        "df.LIABILITAS_2021.value_counts()"
      ],
      "metadata": {
        "colab": {
          "base_uri": "https://localhost:8080/"
        },
        "id": "Qind3Ix9kAdQ",
        "outputId": "b984ec82-ae26-4c9b-8806-915b3ef6d13b"
      },
      "execution_count": null,
      "outputs": [
        {
          "output_type": "execute_result",
          "data": {
            "text/plain": [
              "20792734    1\n",
              "37303968    1\n",
              "57492215    1\n",
              "51926624    1\n",
              "73737614    1\n",
              "           ..\n",
              "21996659    1\n",
              "82403972    1\n",
              "49963574    1\n",
              "93795124    1\n",
              "23395404    1\n",
              "Name: LIABILITAS_2021, Length: 2396, dtype: int64"
            ]
          },
          "metadata": {},
          "execution_count": 19
        }
      ]
    },
    {
      "cell_type": "code",
      "source": [
        "df.LIABILITAS_2020.value_counts()"
      ],
      "metadata": {
        "colab": {
          "base_uri": "https://localhost:8080/"
        },
        "id": "f6ijS0GbkDEf",
        "outputId": "97bc99da-d9d4-4e48-85f2-55d88b15a3d6"
      },
      "execution_count": null,
      "outputs": [
        {
          "output_type": "execute_result",
          "data": {
            "text/plain": [
              "84451989    1\n",
              "68827372    1\n",
              "49579203    1\n",
              "72960280    1\n",
              "92543279    1\n",
              "           ..\n",
              "30909752    1\n",
              "30204043    1\n",
              "61301405    1\n",
              "79093663    1\n",
              "60059609    1\n",
              "Name: LIABILITAS_2020, Length: 2396, dtype: int64"
            ]
          },
          "metadata": {},
          "execution_count": 20
        }
      ]
    },
    {
      "cell_type": "code",
      "source": [
        "df.ASET_2021.value_counts()"
      ],
      "metadata": {
        "colab": {
          "base_uri": "https://localhost:8080/"
        },
        "id": "hWVqwGKgkEjI",
        "outputId": "e6c9df9f-702c-4c6f-cd44-38d783e8d666"
      },
      "execution_count": null,
      "outputs": [
        {
          "output_type": "execute_result",
          "data": {
            "text/plain": [
              "195406981    1\n",
              "132295491    1\n",
              "142872658    1\n",
              "151519715    1\n",
              "158030539    1\n",
              "            ..\n",
              "213444712    1\n",
              "235786922    1\n",
              "217053064    1\n",
              "222572541    1\n",
              "129680870    1\n",
              "Name: ASET_2021, Length: 2396, dtype: int64"
            ]
          },
          "metadata": {},
          "execution_count": 21
        }
      ]
    },
    {
      "cell_type": "code",
      "source": [
        "df.ASET_2020.value_counts()"
      ],
      "metadata": {
        "colab": {
          "base_uri": "https://localhost:8080/"
        },
        "id": "f0Epf6a6kGAA",
        "outputId": "e86ac4fa-d9d6-4b45-b79d-6df188c1afe4"
      },
      "execution_count": null,
      "outputs": [
        {
          "output_type": "execute_result",
          "data": {
            "text/plain": [
              "183660291    1\n",
              "134611191    1\n",
              "141868203    1\n",
              "158500612    1\n",
              "154721658    1\n",
              "            ..\n",
              "195375346    1\n",
              "191383446    1\n",
              "196589176    1\n",
              "190516149    1\n",
              "156549711    1\n",
              "Name: ASET_2020, Length: 2396, dtype: int64"
            ]
          },
          "metadata": {},
          "execution_count": 22
        }
      ]
    },
    {
      "cell_type": "code",
      "source": [
        "df.KAS_2021.value_counts()"
      ],
      "metadata": {
        "colab": {
          "base_uri": "https://localhost:8080/"
        },
        "id": "X_n3Qd_ZkHUu",
        "outputId": "4848151d-572a-46a5-8004-e244cd6fa66e"
      },
      "execution_count": null,
      "outputs": [
        {
          "output_type": "execute_result",
          "data": {
            "text/plain": [
              "2523754     1\n",
              "16790710    1\n",
              "8725605     1\n",
              "25627013    1\n",
              "3825416     1\n",
              "           ..\n",
              "3269443     1\n",
              "19727398    1\n",
              "4738644     1\n",
              "20818119    1\n",
              "32548905    1\n",
              "Name: KAS_2021, Length: 2396, dtype: int64"
            ]
          },
          "metadata": {},
          "execution_count": 23
        }
      ]
    },
    {
      "cell_type": "code",
      "source": [
        "df.KAS_2020.value_counts()"
      ],
      "metadata": {
        "colab": {
          "base_uri": "https://localhost:8080/"
        },
        "id": "OpzNao9qkIxL",
        "outputId": "df175d30-f01d-4ef8-85a6-8ddec8bb284d"
      },
      "execution_count": null,
      "outputs": [
        {
          "output_type": "execute_result",
          "data": {
            "text/plain": [
              "11437529    1\n",
              "23003640    1\n",
              "18589938    1\n",
              "33510356    1\n",
              "10212974    1\n",
              "           ..\n",
              "11400186    1\n",
              "27510202    1\n",
              "13829132    1\n",
              "28725910    1\n",
              "38738372    1\n",
              "Name: KAS_2020, Length: 2396, dtype: int64"
            ]
          },
          "metadata": {},
          "execution_count": 24
        }
      ]
    },
    {
      "cell_type": "markdown",
      "source": [
        "# Penanganan Inkonsistensi data"
      ],
      "metadata": {
        "id": "Zol6_9HMkLZ3"
      }
    },
    {
      "cell_type": "markdown",
      "source": [
        "## Var Performa"
      ],
      "metadata": {
        "id": "aL1Eoj6NlIgw"
      }
    },
    {
      "cell_type": "code",
      "source": [
        "print(\"Distribs Performa UMKM \")\n",
        "df.Performa.value_counts()"
      ],
      "metadata": {
        "colab": {
          "base_uri": "https://localhost:8080/"
        },
        "id": "0AAzwyZXkwIt",
        "outputId": "1af2f1a5-3005-4d86-e69b-312e42325d75"
      },
      "execution_count": null,
      "outputs": [
        {
          "output_type": "stream",
          "name": "stdout",
          "text": [
            "Distribs Performa UMKM \n"
          ]
        },
        {
          "output_type": "execute_result",
          "data": {
            "text/plain": [
              "buruk    2230\n",
              "baik      133\n",
              "Baik       33\n",
              "Name: Performa, dtype: int64"
            ]
          },
          "metadata": {},
          "execution_count": 25
        }
      ]
    },
    {
      "cell_type": "code",
      "source": [
        "df['Performa'].loc[df['Performa'] == 'Baik'] = 'baik'"
      ],
      "metadata": {
        "colab": {
          "base_uri": "https://localhost:8080/"
        },
        "id": "ARcsN7UakJaw",
        "outputId": "08dd63a1-472a-4e99-dd90-675020b3b4ec"
      },
      "execution_count": null,
      "outputs": [
        {
          "output_type": "stream",
          "name": "stderr",
          "text": [
            "/usr/local/lib/python3.7/dist-packages/pandas/core/indexing.py:1732: SettingWithCopyWarning: \n",
            "A value is trying to be set on a copy of a slice from a DataFrame\n",
            "\n",
            "See the caveats in the documentation: https://pandas.pydata.org/pandas-docs/stable/user_guide/indexing.html#returning-a-view-versus-a-copy\n",
            "  self._setitem_single_block(indexer, value, name)\n"
          ]
        }
      ]
    },
    {
      "cell_type": "code",
      "source": [
        "print(\"Distribs Performa UMKM \")\n",
        "df.Performa.value_counts()"
      ],
      "metadata": {
        "colab": {
          "base_uri": "https://localhost:8080/"
        },
        "id": "aeL1BzLKlGBp",
        "outputId": "1fe11fdb-d88d-4174-f242-f6393c72b66d"
      },
      "execution_count": null,
      "outputs": [
        {
          "output_type": "stream",
          "name": "stdout",
          "text": [
            "Distribs Performa UMKM \n"
          ]
        },
        {
          "output_type": "execute_result",
          "data": {
            "text/plain": [
              "buruk    2230\n",
              "baik      166\n",
              "Name: Performa, dtype: int64"
            ]
          },
          "metadata": {},
          "execution_count": 27
        }
      ]
    },
    {
      "cell_type": "markdown",
      "source": [
        "## Var Sumber Laba Utama"
      ],
      "metadata": {
        "id": "bnOdoqyNlTPo"
      }
    },
    {
      "cell_type": "code",
      "source": [
        "df.SUMBER_LABA_UTAMA_2020.value_counts()"
      ],
      "metadata": {
        "colab": {
          "base_uri": "https://localhost:8080/"
        },
        "id": "mdSQz2salP8H",
        "outputId": "d6bb0e8b-cff7-448c-90b3-9324c7d7b7d1"
      },
      "execution_count": null,
      "outputs": [
        {
          "output_type": "execute_result",
          "data": {
            "text/plain": [
              "Bidang Usaha      1420\n",
              "Bidang usaha       635\n",
              "Bidang Lainnya     291\n",
              "Bidang Lain         48\n",
              "Bidang lain          2\n",
              "Name: SUMBER_LABA_UTAMA_2020, dtype: int64"
            ]
          },
          "metadata": {},
          "execution_count": 28
        }
      ]
    },
    {
      "cell_type": "code",
      "source": [
        "df.SUMBER_LABA_UTAMA_2021.value_counts()"
      ],
      "metadata": {
        "colab": {
          "base_uri": "https://localhost:8080/"
        },
        "id": "ZCvO5t3IlSnY",
        "outputId": "c0dbd7ad-56f9-453a-d142-eeb30eec830d"
      },
      "execution_count": null,
      "outputs": [
        {
          "output_type": "execute_result",
          "data": {
            "text/plain": [
              "Bidang Usaha      1296\n",
              "Bidang usaha       736\n",
              "Bidang Lainnya     360\n",
              "Bidang lainnya       2\n",
              "Bidang Lain          2\n",
              "Name: SUMBER_LABA_UTAMA_2021, dtype: int64"
            ]
          },
          "metadata": {},
          "execution_count": 29
        }
      ]
    },
    {
      "cell_type": "code",
      "source": [
        "df['SUMBER_LABA_UTAMA_2020'].loc[df['SUMBER_LABA_UTAMA_2020'] == 'Bidang usaha'] = 'Bidang Usaha'\n",
        "df['SUMBER_LABA_UTAMA_2021'].loc[df['SUMBER_LABA_UTAMA_2021'] == 'Bidang usaha'] = 'Bidang Usaha'\n",
        "df['SUMBER_LABA_UTAMA_2020'].loc[df['SUMBER_LABA_UTAMA_2020'] == 'Bidang lainnya'] = 'Bidang Lain'\n",
        "df['SUMBER_LABA_UTAMA_2021'].loc[df['SUMBER_LABA_UTAMA_2021'] == 'Bidang lainnya'] = 'Bidang Lain'\n",
        "df['SUMBER_LABA_UTAMA_2020'].loc[df['SUMBER_LABA_UTAMA_2020'] == 'Bidang Lainnya'] = 'Bidang Lain'\n",
        "df['SUMBER_LABA_UTAMA_2021'].loc[df['SUMBER_LABA_UTAMA_2021'] == 'Bidang Lainnya'] = 'Bidang Lain'\n",
        "df['SUMBER_LABA_UTAMA_2020'].loc[df['SUMBER_LABA_UTAMA_2020'] == 'Bidang Lainnya'] = 'Bidang Lain'\n",
        "df['SUMBER_LABA_UTAMA_2021'].loc[df['SUMBER_LABA_UTAMA_2021'] == 'Bidang Lainnya'] = 'Bidang Lain'\n",
        "df['SUMBER_LABA_UTAMA_2020'].loc[df['SUMBER_LABA_UTAMA_2020'] == 'Bidang lain'] = 'Bidang Lain'\n",
        "df['SUMBER_LABA_UTAMA_2021'].loc[df['SUMBER_LABA_UTAMA_2021'] == 'Bidang lain'] = 'Bidang Lain'\n",
        "df['SUMBER_LABA_UTAMA_2020'].loc[df['SUMBER_LABA_UTAMA_2020'] == 'Bidang Lain '] = 'Bidang Lain'\n",
        "df['SUMBER_LABA_UTAMA_2021'].loc[df['SUMBER_LABA_UTAMA_2021'] == 'Bidang Lain '] = 'Bidang Lain'\n",
        "df['SUMBER_LABA_UTAMA_2020'].loc[df['SUMBER_LABA_UTAMA_2020'] == 'Bidang lain '] = 'Bidang Lain'\n",
        "df['SUMBER_LABA_UTAMA_2021'].loc[df['SUMBER_LABA_UTAMA_2021'] == 'Bidang lain '] = 'Bidang Lain'"
      ],
      "metadata": {
        "id": "_Z1O_JtQlcAe"
      },
      "execution_count": null,
      "outputs": []
    },
    {
      "cell_type": "code",
      "source": [
        "df.SUMBER_LABA_UTAMA_2020.value_counts()"
      ],
      "metadata": {
        "colab": {
          "base_uri": "https://localhost:8080/"
        },
        "id": "ZuIghWy_l6L2",
        "outputId": "e7b6e899-80b3-46cd-b3b1-d81a0463fd77"
      },
      "execution_count": null,
      "outputs": [
        {
          "output_type": "execute_result",
          "data": {
            "text/plain": [
              "Bidang Usaha    2055\n",
              "Bidang Lain      341\n",
              "Name: SUMBER_LABA_UTAMA_2020, dtype: int64"
            ]
          },
          "metadata": {},
          "execution_count": 31
        }
      ]
    },
    {
      "cell_type": "code",
      "source": [
        "df.SUMBER_LABA_UTAMA_2021.value_counts()"
      ],
      "metadata": {
        "colab": {
          "base_uri": "https://localhost:8080/"
        },
        "id": "uLAoGLtSl8Vr",
        "outputId": "b6116abb-a602-4808-fc96-48c8926c8f0f"
      },
      "execution_count": null,
      "outputs": [
        {
          "output_type": "execute_result",
          "data": {
            "text/plain": [
              "Bidang Usaha    2032\n",
              "Bidang Lain      364\n",
              "Name: SUMBER_LABA_UTAMA_2021, dtype: int64"
            ]
          },
          "metadata": {},
          "execution_count": 32
        }
      ]
    },
    {
      "cell_type": "markdown",
      "source": [
        "## Mengubah , menjadi ."
      ],
      "metadata": {
        "id": "D_-5atx0oULZ"
      }
    },
    {
      "cell_type": "code",
      "source": [
        "import string\n",
        "import re\n",
        "def processubah(data):\n",
        "    data = re.sub(r',', '.', data)\n",
        "\n",
        "\n",
        "    return data"
      ],
      "metadata": {
        "id": "Wil3nRTIoWMV"
      },
      "execution_count": null,
      "outputs": []
    },
    {
      "cell_type": "code",
      "source": [
        "df['RATIO_BEBAN-PENJUALAN_2020'].head()"
      ],
      "metadata": {
        "id": "27oOfLw5MEh7",
        "outputId": "9f4a5302-0560-4f0d-c9cb-f40e0d9c9470",
        "colab": {
          "base_uri": "https://localhost:8080/"
        }
      },
      "execution_count": null,
      "outputs": [
        {
          "output_type": "execute_result",
          "data": {
            "text/plain": [
              "0    0,855825664\n",
              "1    0,731139801\n",
              "2    0,080935538\n",
              "3    0,989462669\n",
              "4    0,162016308\n",
              "Name: RATIO_BEBAN-PENJUALAN_2020, dtype: object"
            ]
          },
          "metadata": {},
          "execution_count": 34
        }
      ]
    },
    {
      "cell_type": "code",
      "source": [
        "df['RATIO_BEBAN-PENJUALAN_2020'] = df['RATIO_BEBAN-PENJUALAN_2020'].apply(processubah)\n",
        "df['RATIO_BEBAN-PENJUALAN_2020'].head()"
      ],
      "metadata": {
        "colab": {
          "base_uri": "https://localhost:8080/"
        },
        "id": "HhvApnAho0-h",
        "outputId": "09251e1b-431f-42ee-dbf7-a58da9bac0b8"
      },
      "execution_count": null,
      "outputs": [
        {
          "output_type": "execute_result",
          "data": {
            "text/plain": [
              "0    0.855825664\n",
              "1    0.731139801\n",
              "2    0.080935538\n",
              "3    0.989462669\n",
              "4    0.162016308\n",
              "Name: RATIO_BEBAN-PENJUALAN_2020, dtype: object"
            ]
          },
          "metadata": {},
          "execution_count": 35
        }
      ]
    },
    {
      "cell_type": "code",
      "source": [
        "df['RATIO_BEBAN-PENJUALAN_2021'] = df['RATIO_BEBAN-PENJUALAN_2021'].apply(processubah)\n",
        "df['RATIO_BEBAN-PENJUALAN_2021'].head()"
      ],
      "metadata": {
        "colab": {
          "base_uri": "https://localhost:8080/"
        },
        "id": "UwrX6MQcpScP",
        "outputId": "5617fe4d-dc0d-4ae1-c474-d3296c3e4e33"
      },
      "execution_count": null,
      "outputs": [
        {
          "output_type": "execute_result",
          "data": {
            "text/plain": [
              "0    0.868179851\n",
              "1    0.978566736\n",
              "2    0.060155139\n",
              "3     0.53161329\n",
              "4    0.229926543\n",
              "Name: RATIO_BEBAN-PENJUALAN_2021, dtype: object"
            ]
          },
          "metadata": {},
          "execution_count": 36
        }
      ]
    },
    {
      "cell_type": "code",
      "source": [
        "df['LABA_RUGI_2020'] = df['LABA_RUGI_2020'].apply(processubah)\n",
        "df['LABA_RUGI_2020'].head()"
      ],
      "metadata": {
        "colab": {
          "base_uri": "https://localhost:8080/"
        },
        "id": "5d3u1QOMphL9",
        "outputId": "80d5f4d3-d4e7-405c-90c9-f108e0c9b1d1"
      },
      "execution_count": null,
      "outputs": [
        {
          "output_type": "execute_result",
          "data": {
            "text/plain": [
              "0    73173580.71\n",
              "1    48356515.98\n",
              "2    39908732.85\n",
              "3    4587487.935\n",
              "4    49354911.14\n",
              "Name: LABA_RUGI_2020, dtype: object"
            ]
          },
          "metadata": {},
          "execution_count": 37
        }
      ]
    },
    {
      "cell_type": "code",
      "source": [
        "df['LABA_RUGI_2021'] = df['LABA_RUGI_2021'].apply(processubah)\n",
        "df['LABA_RUGI_2021'].head()"
      ],
      "metadata": {
        "colab": {
          "base_uri": "https://localhost:8080/"
        },
        "id": "CXbYB_e0poaJ",
        "outputId": "46a6283c-5d7e-4de1-ebbf-f5266aa368a3"
      },
      "execution_count": null,
      "outputs": [
        {
          "output_type": "execute_result",
          "data": {
            "text/plain": [
              "0    87607042.61\n",
              "1    56371242.72\n",
              "2    48611150.54\n",
              "3    36119898.81\n",
              "4    57734181.32\n",
              "Name: LABA_RUGI_2021, dtype: object"
            ]
          },
          "metadata": {},
          "execution_count": 38
        }
      ]
    },
    {
      "cell_type": "markdown",
      "source": [
        "## New Features"
      ],
      "metadata": {
        "id": "Vt6ypRKzuZwL"
      }
    },
    {
      "cell_type": "code",
      "source": [
        "df['LABA_RUGI_2020'].loc[df['LABA_RUGI_2020'] == 0]"
      ],
      "metadata": {
        "colab": {
          "base_uri": "https://localhost:8080/"
        },
        "id": "S6evewS1viWt",
        "outputId": "e69a0d42-66fe-4c7d-c9a7-63ddd2a89761"
      },
      "execution_count": null,
      "outputs": [
        {
          "output_type": "execute_result",
          "data": {
            "text/plain": [
              "Series([], Name: LABA_RUGI_2020, dtype: object)"
            ]
          },
          "metadata": {},
          "execution_count": 39
        }
      ]
    },
    {
      "cell_type": "code",
      "source": [
        "df['LABA_RUGI_2021'].loc[df['LABA_RUGI_2021'] == 0]"
      ],
      "metadata": {
        "colab": {
          "base_uri": "https://localhost:8080/"
        },
        "id": "Ft7PCpOWvbSx",
        "outputId": "17e5f289-21bd-43f2-b239-576c1f320987"
      },
      "execution_count": null,
      "outputs": [
        {
          "output_type": "execute_result",
          "data": {
            "text/plain": [
              "Series([], Name: LABA_RUGI_2021, dtype: object)"
            ]
          },
          "metadata": {},
          "execution_count": 40
        }
      ]
    },
    {
      "cell_type": "code",
      "source": [
        "df.info()"
      ],
      "metadata": {
        "colab": {
          "base_uri": "https://localhost:8080/"
        },
        "id": "0zpDX-XTv_e5",
        "outputId": "b32613dc-c252-4c5a-897f-6b5d8c093178"
      },
      "execution_count": null,
      "outputs": [
        {
          "output_type": "stream",
          "name": "stdout",
          "text": [
            "<class 'pandas.core.frame.DataFrame'>\n",
            "RangeIndex: 2396 entries, 0 to 2395\n",
            "Data columns (total 15 columns):\n",
            " #   Column                      Non-Null Count  Dtype \n",
            "---  ------                      --------------  ----- \n",
            " 0   PENJUALAN_2021              2396 non-null   int64 \n",
            " 1   PENJUALAN_2020              2396 non-null   int64 \n",
            " 2   RATIO_BEBAN-PENJUALAN_2021  2396 non-null   object\n",
            " 3   RATIO_BEBAN-PENJUALAN_2020  2396 non-null   object\n",
            " 4   SUMBER_LABA_UTAMA_2021      2396 non-null   object\n",
            " 5   SUMBER_LABA_UTAMA_2020      2396 non-null   object\n",
            " 6   LABA_RUGI_2021              2396 non-null   object\n",
            " 7   LABA_RUGI_2020              2396 non-null   object\n",
            " 8   LIABILITAS_2021             2396 non-null   int64 \n",
            " 9   LIABILITAS_2020             2396 non-null   int64 \n",
            " 10  ASET_2021                   2396 non-null   int64 \n",
            " 11  ASET_2020                   2396 non-null   int64 \n",
            " 12  KAS_2021                    2396 non-null   int64 \n",
            " 13  KAS_2020                    2396 non-null   int64 \n",
            " 14  Performa                    2396 non-null   object\n",
            "dtypes: int64(8), object(7)\n",
            "memory usage: 280.9+ KB\n"
          ]
        }
      ]
    },
    {
      "cell_type": "code",
      "source": [
        "df['RATIO_BEBAN-PENJUALAN_2020'] = df['RATIO_BEBAN-PENJUALAN_2020'].astype(float)\n",
        "df['RATIO_BEBAN-PENJUALAN_2021'] = df['RATIO_BEBAN-PENJUALAN_2021'].astype(float)\n",
        "df['LABA_RUGI_2021'] = df['LABA_RUGI_2021'].astype(float)\n",
        "df['LABA_RUGI_2020'] = df['LABA_RUGI_2020'].astype(float)"
      ],
      "metadata": {
        "id": "-FMLacAvwIYY"
      },
      "execution_count": null,
      "outputs": []
    },
    {
      "cell_type": "code",
      "source": [
        "df['STATUS_LABA_RUGI_2020'] = df['LABA_RUGI_2020']\n",
        "df['STATUS_LABA_RUGI_2020'].loc[df['LABA_RUGI_2020'] < 0] = 'Rugi'\n",
        "df['STATUS_LABA_RUGI_2020'].loc[df['LABA_RUGI_2020'] > 0] = 'Laba'\n",
        "\n",
        "df['STATUS_LABA_RUGI_2021'] = df['LABA_RUGI_2021']\n",
        "df['STATUS_LABA_RUGI_2021'].loc[df['LABA_RUGI_2021'] < 0] = 'Rugi'\n",
        "df['STATUS_LABA_RUGI_2021'].loc[df['LABA_RUGI_2021'] > 0] = 'Laba'"
      ],
      "metadata": {
        "id": "Wa3mtFt-ucRd"
      },
      "execution_count": null,
      "outputs": []
    },
    {
      "cell_type": "code",
      "source": [
        "df['STATUS_LABA_RUGI_2020'].value_counts()"
      ],
      "metadata": {
        "colab": {
          "base_uri": "https://localhost:8080/"
        },
        "id": "BuZnbfzwyP1k",
        "outputId": "a7060884-da12-416f-9f67-12217a59ccb1"
      },
      "execution_count": null,
      "outputs": [
        {
          "output_type": "execute_result",
          "data": {
            "text/plain": [
              "Laba    1678\n",
              "Rugi     718\n",
              "Name: STATUS_LABA_RUGI_2020, dtype: int64"
            ]
          },
          "metadata": {},
          "execution_count": 44
        }
      ]
    },
    {
      "cell_type": "code",
      "source": [
        "df['STATUS_LABA_RUGI_2021'].value_counts()"
      ],
      "metadata": {
        "colab": {
          "base_uri": "https://localhost:8080/"
        },
        "id": "EQLKFjaJyTY8",
        "outputId": "e9719370-6a4d-404f-92d7-342671be7814"
      },
      "execution_count": null,
      "outputs": [
        {
          "output_type": "execute_result",
          "data": {
            "text/plain": [
              "Laba    1631\n",
              "Rugi     765\n",
              "Name: STATUS_LABA_RUGI_2021, dtype: int64"
            ]
          },
          "metadata": {},
          "execution_count": 45
        }
      ]
    },
    {
      "cell_type": "markdown",
      "source": [
        "Modal = aset - utang (liabilitas)"
      ],
      "metadata": {
        "id": "Yh_7Y49V5Dfc"
      }
    },
    {
      "cell_type": "code",
      "source": [
        "df['MODAL_2020'] = df['ASET_2020'] - df['LIABILITAS_2020']\n",
        "df['MODAL_2021'] = df['ASET_2021']  - df['LIABILITAS_2021']"
      ],
      "metadata": {
        "id": "cxHu1uv45ETl"
      },
      "execution_count": null,
      "outputs": []
    },
    {
      "cell_type": "code",
      "source": [
        "df['MODAL_2020']"
      ],
      "metadata": {
        "colab": {
          "base_uri": "https://localhost:8080/"
        },
        "id": "ogJtVXha5ft3",
        "outputId": "d00fc205-934d-4a88-a127-12ea5a8e7c73"
      },
      "execution_count": null,
      "outputs": [
        {
          "output_type": "execute_result",
          "data": {
            "text/plain": [
              "0        99208302\n",
              "1       100686408\n",
              "2       110079144\n",
              "3       105630694\n",
              "4        98867018\n",
              "          ...    \n",
              "2391     93234496\n",
              "2392    101757754\n",
              "2393     83752595\n",
              "2394     78259460\n",
              "2395     96490102\n",
              "Name: MODAL_2020, Length: 2396, dtype: int64"
            ]
          },
          "metadata": {},
          "execution_count": 47
        }
      ]
    },
    {
      "cell_type": "code",
      "source": [
        "df['MODAL_2021']"
      ],
      "metadata": {
        "colab": {
          "base_uri": "https://localhost:8080/"
        },
        "id": "8gQLcJ_c5h3W",
        "outputId": "3a25f2b6-04ce-4149-ff79-e5d5784763f4"
      },
      "execution_count": null,
      "outputs": [
        {
          "output_type": "execute_result",
          "data": {
            "text/plain": [
              "0       174614247\n",
              "1       150183347\n",
              "2       161961584\n",
              "3       163333330\n",
              "4       162562575\n",
              "          ...    \n",
              "2391    120878705\n",
              "2392    114602065\n",
              "2393    130350751\n",
              "2394    131918404\n",
              "2395    106285466\n",
              "Name: MODAL_2021, Length: 2396, dtype: int64"
            ]
          },
          "metadata": {},
          "execution_count": 48
        }
      ]
    },
    {
      "cell_type": "markdown",
      "source": [
        "Roa = laba bersih /total aset \" 100 % (asumsi laba bersih)"
      ],
      "metadata": {
        "id": "NbLTqw-J5kTo"
      }
    },
    {
      "cell_type": "code",
      "source": [
        "df['LABA_2020'] = df['LABA_RUGI_2020']\n",
        "df['LABA_2020'].loc[df['STATUS_LABA_RUGI_2020'] == 'Laba'] = df['LABA_RUGI_2020'].loc[df['STATUS_LABA_RUGI_2020'] == 'Laba']\n",
        "df['LABA_2020'].loc[df['STATUS_LABA_RUGI_2020'] == 'Rugi'] = 0\n",
        "\n",
        "df['LABA_2021'] = df['LABA_RUGI_2021']\n",
        "df['LABA_2021'].loc[df['STATUS_LABA_RUGI_2021'] == 'Laba'] = df['LABA_RUGI_2021'].loc[df['STATUS_LABA_RUGI_2021'] == 'Laba']\n",
        "df['LABA_2021'].loc[df['STATUS_LABA_RUGI_2021'] == 'Rugi'] = 0"
      ],
      "metadata": {
        "id": "ocgNO7Wm55Lx"
      },
      "execution_count": null,
      "outputs": []
    },
    {
      "cell_type": "code",
      "source": [
        "df['LABA_2020']"
      ],
      "metadata": {
        "colab": {
          "base_uri": "https://localhost:8080/"
        },
        "id": "mxUkjM196qhV",
        "outputId": "c978153d-5d34-4e36-825f-a90032e2c7f5"
      },
      "execution_count": null,
      "outputs": [
        {
          "output_type": "execute_result",
          "data": {
            "text/plain": [
              "0       7.317358e+07\n",
              "1       4.835652e+07\n",
              "2       3.990873e+07\n",
              "3       4.587488e+06\n",
              "4       4.935491e+07\n",
              "            ...     \n",
              "2391    2.292094e+07\n",
              "2392    5.652371e+05\n",
              "2393    0.000000e+00\n",
              "2394    1.468438e+07\n",
              "2395    4.865070e+07\n",
              "Name: LABA_2020, Length: 2396, dtype: float64"
            ]
          },
          "metadata": {},
          "execution_count": 50
        }
      ]
    },
    {
      "cell_type": "code",
      "source": [
        "df['LABA_2021']"
      ],
      "metadata": {
        "colab": {
          "base_uri": "https://localhost:8080/"
        },
        "id": "IaQaGsy_6qSq",
        "outputId": "b3efbcd4-1887-44f7-d144-bc1603b2c866"
      },
      "execution_count": null,
      "outputs": [
        {
          "output_type": "execute_result",
          "data": {
            "text/plain": [
              "0       87607042.61\n",
              "1       56371242.72\n",
              "2       48611150.54\n",
              "3       36119898.81\n",
              "4       57734181.32\n",
              "           ...     \n",
              "2391    19074713.31\n",
              "2392    25879618.85\n",
              "2393    21646570.07\n",
              "2394    51529476.88\n",
              "2395    40058502.64\n",
              "Name: LABA_2021, Length: 2396, dtype: float64"
            ]
          },
          "metadata": {},
          "execution_count": 51
        }
      ]
    },
    {
      "cell_type": "code",
      "source": [
        "df['ROA_2020'] = (df['LABA_2020'] / df['ASET_2020'])*100\n",
        "df['ROA_2021'] = (df['LABA_2021'] / df['ASET_2021'])*100"
      ],
      "metadata": {
        "id": "mE_WDLXi5ooh"
      },
      "execution_count": null,
      "outputs": []
    },
    {
      "cell_type": "code",
      "source": [
        "df['ROA_2020']"
      ],
      "metadata": {
        "colab": {
          "base_uri": "https://localhost:8080/"
        },
        "id": "UqLFGTzl7HiC",
        "outputId": "7d32feac-2971-489b-e91f-4f25bedf0cd9"
      },
      "execution_count": null,
      "outputs": [
        {
          "output_type": "execute_result",
          "data": {
            "text/plain": [
              "0       39.841808\n",
              "1       24.297832\n",
              "2       22.480039\n",
              "3        2.475518\n",
              "4       25.254938\n",
              "          ...    \n",
              "2391    15.647642\n",
              "2392     0.356171\n",
              "2393     0.000000\n",
              "2394    11.592731\n",
              "2395    31.076836\n",
              "Name: ROA_2020, Length: 2396, dtype: float64"
            ]
          },
          "metadata": {},
          "execution_count": 53
        }
      ]
    },
    {
      "cell_type": "code",
      "source": [
        "df['ROA_2021']"
      ],
      "metadata": {
        "colab": {
          "base_uri": "https://localhost:8080/"
        },
        "id": "e1SnUdtz7J_W",
        "outputId": "a2b8b01d-ff2c-4615-8c3c-066ccbdee59c"
      },
      "execution_count": null,
      "outputs": [
        {
          "output_type": "execute_result",
          "data": {
            "text/plain": [
              "0       44.833118\n",
              "1       32.275584\n",
              "2       26.629292\n",
              "3       18.998493\n",
              "4       29.396779\n",
              "          ...    \n",
              "2391    13.169470\n",
              "2392    18.527140\n",
              "2393    13.926922\n",
              "2394    33.911812\n",
              "2395    30.890063\n",
              "Name: ROA_2021, Length: 2396, dtype: float64"
            ]
          },
          "metadata": {},
          "execution_count": 54
        }
      ]
    },
    {
      "cell_type": "markdown",
      "source": [
        "Npm = laba bersih / pendapatan * 100%"
      ],
      "metadata": {
        "id": "lYdMBxAX8iv2"
      }
    },
    {
      "cell_type": "code",
      "source": [
        "df['NPM_2020'] = (df['LABA_2020'] / df['PENJUALAN_2020'])*100\n",
        "df['NPM_2021'] = (df['LABA_2021'] / df['PENJUALAN_2021'])*100"
      ],
      "metadata": {
        "id": "OgPBVJc48nlH"
      },
      "execution_count": null,
      "outputs": []
    },
    {
      "cell_type": "code",
      "source": [
        "drop_cols = ['LABA_2020', 'LABA_2021']\n",
        "\n",
        "df.drop(drop_cols, inplace=True, axis=1)"
      ],
      "metadata": {
        "id": "TL4ZPuXi7Bvo"
      },
      "execution_count": null,
      "outputs": []
    },
    {
      "cell_type": "markdown",
      "source": [
        "# EDA"
      ],
      "metadata": {
        "id": "r12mUePlmexK"
      }
    },
    {
      "cell_type": "code",
      "source": [
        "df.columns"
      ],
      "metadata": {
        "colab": {
          "base_uri": "https://localhost:8080/"
        },
        "id": "mZTsQzBxl-SI",
        "outputId": "40a20479-11ab-478c-da9d-170928fc1156"
      },
      "execution_count": null,
      "outputs": [
        {
          "output_type": "execute_result",
          "data": {
            "text/plain": [
              "Index(['PENJUALAN_2021', 'PENJUALAN_2020', 'RATIO_BEBAN-PENJUALAN_2021',\n",
              "       'RATIO_BEBAN-PENJUALAN_2020', 'SUMBER_LABA_UTAMA_2021',\n",
              "       'SUMBER_LABA_UTAMA_2020', 'LABA_RUGI_2021', 'LABA_RUGI_2020',\n",
              "       'LIABILITAS_2021', 'LIABILITAS_2020', 'ASET_2021', 'ASET_2020',\n",
              "       'KAS_2021', 'KAS_2020', 'Performa', 'STATUS_LABA_RUGI_2020',\n",
              "       'STATUS_LABA_RUGI_2021', 'MODAL_2020', 'MODAL_2021', 'ROA_2020',\n",
              "       'ROA_2021', 'NPM_2020', 'NPM_2021'],\n",
              "      dtype='object')"
            ]
          },
          "metadata": {},
          "execution_count": 57
        }
      ]
    },
    {
      "cell_type": "code",
      "source": [
        "import matplotlib.pyplot as plt\n",
        "plot_size = plt.rcParams[\"figure.figsize\"]\n",
        "print(plot_size[0])\n",
        "print(plot_size[1])\n",
        "\n",
        "plot_size[0] = 8\n",
        "plot_size[1] = 6\n",
        "plt.rcParams[\"figure.figsize\"] = plot_size\n",
        "\n",
        "df.Performa.value_counts().plot(kind='pie', labels= ('Buruk', 'Baik'), autopct='%1.0f%%')"
      ],
      "metadata": {
        "colab": {
          "base_uri": "https://localhost:8080/",
          "height": 409
        },
        "id": "FTLLVLbjqJvf",
        "outputId": "7132c9ea-4b93-4567-98b7-c8f07ad2dbd2"
      },
      "execution_count": null,
      "outputs": [
        {
          "output_type": "stream",
          "name": "stdout",
          "text": [
            "6.0\n",
            "4.0\n"
          ]
        },
        {
          "output_type": "execute_result",
          "data": {
            "text/plain": [
              "<matplotlib.axes._subplots.AxesSubplot at 0x7f35cab8d810>"
            ]
          },
          "metadata": {},
          "execution_count": 58
        },
        {
          "output_type": "display_data",
          "data": {
            "text/plain": [
              "<Figure size 576x432 with 1 Axes>"
            ],
            "image/png": "[encoded data removed]"
          },
          "metadata": {}
        }
      ]
    },
    {
      "cell_type": "code",
      "source": [
        "import seaborn as sns\n",
        "plt.figure(figsize=(12,6))\n",
        "sns.countplot(x='SUMBER_LABA_UTAMA_2020',data=df)"
      ],
      "metadata": {
        "colab": {
          "base_uri": "https://localhost:8080/",
          "height": 406
        },
        "id": "Uc4tlHsXqgDf",
        "outputId": "a742de28-c9c6-4110-844a-6ab6c84639b4"
      },
      "execution_count": null,
      "outputs": [
        {
          "output_type": "execute_result",
          "data": {
            "text/plain": [
              "<matplotlib.axes._subplots.AxesSubplot at 0x7f35e69c23d0>"
            ]
          },
          "metadata": {},
          "execution_count": 59
        },
        {
          "output_type": "display_data",
          "data": {
            "text/plain": [
              "<Figure size 864x432 with 1 Axes>"
            ],
            "image/png": "[encoded data removed]"
          },
          "metadata": {
            "needs_background": "light"
          }
        }
      ]
    },
    {
      "cell_type": "code",
      "source": [
        "import seaborn as sns\n",
        "plt.figure(figsize=(12,6))\n",
        "sns.countplot(x='SUMBER_LABA_UTAMA_2021',data=df)"
      ],
      "metadata": {
        "colab": {
          "base_uri": "https://localhost:8080/",
          "height": 406
        },
        "id": "K8NMCOxLsfIB",
        "outputId": "5bb8ed62-49c2-4153-dfb6-04759422a8cf"
      },
      "execution_count": null,
      "outputs": [
        {
          "output_type": "execute_result",
          "data": {
            "text/plain": [
              "<matplotlib.axes._subplots.AxesSubplot at 0x7f35bbc93fd0>"
            ]
          },
          "metadata": {},
          "execution_count": 60
        },
        {
          "output_type": "display_data",
          "data": {
            "text/plain": [
              "<Figure size 864x432 with 1 Axes>"
            ],
            "image/png": "[encoded data removed]"
          },
          "metadata": {
            "needs_background": "light"
          }
        }
      ]
    },
    {
      "cell_type": "code",
      "source": [
        "df.STATUS_LABA_RUGI_2020.value_counts().plot(kind='pie', labels= ('Laba', 'Rugi'), autopct='%1.0f%%')"
      ],
      "metadata": {
        "colab": {
          "base_uri": "https://localhost:8080/",
          "height": 374
        },
        "id": "fm2d70ryyBJQ",
        "outputId": "bbeddf2b-a9e4-45d5-8541-0f088e3e8482"
      },
      "execution_count": null,
      "outputs": [
        {
          "output_type": "execute_result",
          "data": {
            "text/plain": [
              "<matplotlib.axes._subplots.AxesSubplot at 0x7f35bbc00250>"
            ]
          },
          "metadata": {},
          "execution_count": 61
        },
        {
          "output_type": "display_data",
          "data": {
            "text/plain": [
              "<Figure size 576x432 with 1 Axes>"
            ],
            "image/png": "[encoded data removed]"
          },
          "metadata": {}
        }
      ]
    },
    {
      "cell_type": "code",
      "source": [
        "df.STATUS_LABA_RUGI_2021.value_counts().plot(kind='pie', labels= ('Laba', 'Rugi'), autopct='%1.0f%%')"
      ],
      "metadata": {
        "colab": {
          "base_uri": "https://localhost:8080/",
          "height": 374
        },
        "id": "Kk61jgGeyIYY",
        "outputId": "4df6b88c-a9a5-44b6-a188-6a25bdc75323"
      },
      "execution_count": null,
      "outputs": [
        {
          "output_type": "execute_result",
          "data": {
            "text/plain": [
              "<matplotlib.axes._subplots.AxesSubplot at 0x7f35bbbdd690>"
            ]
          },
          "metadata": {},
          "execution_count": 62
        },
        {
          "output_type": "display_data",
          "data": {
            "text/plain": [
              "<Figure size 576x432 with 1 Axes>"
            ],
            "image/png": "[encoded data removed]"
          },
          "metadata": {}
        }
      ]
    },
    {
      "cell_type": "code",
      "source": [
        "df.describe()"
      ],
      "metadata": {
        "colab": {
          "base_uri": "https://localhost:8080/",
          "height": 382
        },
        "id": "fqBJIHmAxDDO",
        "outputId": "08a92164-dc8e-4abd-efe6-fcc2d76b1435"
      },
      "execution_count": null,
      "outputs": [
        {
          "output_type": "execute_result",
          "data": {
            "text/plain": [
              "       PENJUALAN_2021  PENJUALAN_2020  RATIO_BEBAN-PENJUALAN_2021  \\\n",
              "count    2.396000e+03    2.396000e+03                 2396.000000   \n",
              "mean     9.584888e+07    9.641617e+07                    0.509183   \n",
              "std      3.040022e+07    3.022387e+07                    0.288868   \n",
              "min      5.000499e+07    5.001518e+07                    0.000098   \n",
              "25%      7.178802e+07    7.299453e+07                    0.253985   \n",
              "50%      9.104714e+07    9.106843e+07                    0.512878   \n",
              "75%      1.179365e+08    1.189492e+08                    0.759916   \n",
              "max      1.699342e+08    1.698822e+08                    0.998468   \n",
              "\n",
              "       RATIO_BEBAN-PENJUALAN_2020  LABA_RUGI_2021  LABA_RUGI_2020  \\\n",
              "count                 2396.000000    2.396000e+03    2.396000e+03   \n",
              "mean                     0.498286    1.819757e+07    1.903650e+07   \n",
              "std                      0.289757    2.980609e+07    2.987868e+07   \n",
              "min                      0.000007   -4.775745e+07   -4.869758e+07   \n",
              "25%                      0.239625   -6.030058e+06   -4.201927e+06   \n",
              "50%                      0.508329    1.641342e+07    1.754001e+07   \n",
              "75%                      0.743669    3.841285e+07    3.904699e+07   \n",
              "max                      0.999648    1.113085e+08    1.175304e+08   \n",
              "\n",
              "       LIABILITAS_2021  LIABILITAS_2020     ASET_2021     ASET_2020  \\\n",
              "count     2.396000e+03     2.396000e+03  2.396000e+03  2.396000e+03   \n",
              "mean      6.009127e+07     6.086028e+07  1.701125e+08  1.701452e+08   \n",
              "std       2.305624e+07     2.317820e+07  3.407744e+07  3.399318e+07   \n",
              "min       2.003301e+07     2.003945e+07  1.200472e+08  1.200498e+08   \n",
              "25%       3.995161e+07     4.103766e+07  1.399093e+08  1.403411e+08   \n",
              "50%       6.001215e+07     6.090982e+07  1.650409e+08  1.649616e+08   \n",
              "75%       8.042310e+07     8.070269e+07  1.962644e+08  1.964649e+08   \n",
              "max       9.998582e+07     9.996462e+07  2.399805e+08  2.399194e+08   \n",
              "\n",
              "           KAS_2021      KAS_2020    MODAL_2020    MODAL_2021     ROA_2020  \\\n",
              "count  2.396000e+03  2.396000e+03  2.396000e+03  2.396000e+03  2396.000000   \n",
              "mean   1.766185e+07  2.515371e+07  1.092849e+08  1.100212e+08    13.819365   \n",
              "std    8.690964e+06  8.598909e+06  4.088547e+07  4.058205e+07    13.813931   \n",
              "min    1.258970e+05  1.001980e+07  2.063075e+07  2.080315e+07     0.000000   \n",
              "25%    1.018294e+07  1.781578e+07  7.883061e+07  8.130192e+07     0.000000   \n",
              "50%    1.767224e+07  2.528927e+07  1.065955e+08  1.069316e+08    10.787736   \n",
              "75%    2.494508e+07  3.245916e+07  1.378194e+08  1.386966e+08    24.010941   \n",
              "max    3.450495e+07  3.999486e+07  2.173750e+08  2.175571e+08    56.848255   \n",
              "\n",
              "          ROA_2021     NPM_2020     NPM_2021  \n",
              "count  2396.000000  2396.000000  2396.000000  \n",
              "mean     13.412144    24.615658    23.880083  \n",
              "std      13.718185    23.348040    23.144838  \n",
              "min       0.000000     0.000000     0.000000  \n",
              "25%       0.000000     0.000000     0.000000  \n",
              "50%       9.969864    20.854497    18.865991  \n",
              "75%      23.393238    44.771884    44.034082  \n",
              "max      57.132739    69.999891    69.751648  "
            ],
            "text/html": [
              "\n",
              "  <div id=\"df-85f4b240-8d88-47ad-bb54-37dab9363101\">\n",
              "    <div class=\"colab-df-container\">\n",
              "      <div>\n",
              "<style scoped>\n",
              "    .dataframe tbody tr th:only-of-type {\n",
              "        vertical-align: middle;\n",
              "    }\n",
              "\n",
              "    .dataframe tbody tr th {\n",
              "        vertical-align: top;\n",
              "    }\n",
              "\n",
              "    .dataframe thead th {\n",
              "        text-align: right;\n",
              "    }\n",
              "</style>\n",
              "<table border=\"1\" class=\"dataframe\">\n",
              "  <thead>\n",
              "    <tr style=\"text-align: right;\">\n",
              "      <th></th>\n",
              "      <th>PENJUALAN_2021</th>\n",
              "      <th>PENJUALAN_2020</th>\n",
              "      <th>RATIO_BEBAN-PENJUALAN_2021</th>\n",
              "      <th>RATIO_BEBAN-PENJUALAN_2020</th>\n",
              "      <th>LABA_RUGI_2021</th>\n",
              "      <th>LABA_RUGI_2020</th>\n",
              "      <th>LIABILITAS_2021</th>\n",
              "      <th>LIABILITAS_2020</th>\n",
              "      <th>ASET_2021</th>\n",
              "      <th>ASET_2020</th>\n",
              "      <th>KAS_2021</th>\n",
              "      <th>KAS_2020</th>\n",
              "      <th>MODAL_2020</th>\n",
              "      <th>MODAL_2021</th>\n",
              "      <th>ROA_2020</th>\n",
              "      <th>ROA_2021</th>\n",
              "      <th>NPM_2020</th>\n",
              "      <th>NPM_2021</th>\n",
              "    </tr>\n",
              "  </thead>\n",
              "  <tbody>\n",
              "    <tr>\n",
              "      <th>count</th>\n",
              "      <td>2.396000e+03</td>\n",
              "      <td>2.396000e+03</td>\n",
              "      <td>2396.000000</td>\n",
              "      <td>2396.000000</td>\n",
              "      <td>2.396000e+03</td>\n",
              "      <td>2.396000e+03</td>\n",
              "      <td>2.396000e+03</td>\n",
              "      <td>2.396000e+03</td>\n",
              "      <td>2.396000e+03</td>\n",
              "      <td>2.396000e+03</td>\n",
              "      <td>2.396000e+03</td>\n",
              "      <td>2.396000e+03</td>\n",
              "      <td>2.396000e+03</td>\n",
              "      <td>2.396000e+03</td>\n",
              "      <td>2396.000000</td>\n",
              "      <td>2396.000000</td>\n",
              "      <td>2396.000000</td>\n",
              "      <td>2396.000000</td>\n",
              "    </tr>\n",
              "    <tr>\n",
              "      <th>mean</th>\n",
              "      <td>9.584888e+07</td>\n",
              "      <td>9.641617e+07</td>\n",
              "      <td>0.509183</td>\n",
              "      <td>0.498286</td>\n",
              "      <td>1.819757e+07</td>\n",
              "      <td>1.903650e+07</td>\n",
              "      <td>6.009127e+07</td>\n",
              "      <td>6.086028e+07</td>\n",
              "      <td>1.701125e+08</td>\n",
              "      <td>1.701452e+08</td>\n",
              "      <td>1.766185e+07</td>\n",
              "      <td>2.515371e+07</td>\n",
              "      <td>1.092849e+08</td>\n",
              "      <td>1.100212e+08</td>\n",
              "      <td>13.819365</td>\n",
              "      <td>13.412144</td>\n",
              "      <td>24.615658</td>\n",
              "      <td>23.880083</td>\n",
              "    </tr>\n",
              "    <tr>\n",
              "      <th>std</th>\n",
              "      <td>3.040022e+07</td>\n",
              "      <td>3.022387e+07</td>\n",
              "      <td>0.288868</td>\n",
              "      <td>0.289757</td>\n",
              "      <td>2.980609e+07</td>\n",
              "      <td>2.987868e+07</td>\n",
              "      <td>2.305624e+07</td>\n",
              "      <td>2.317820e+07</td>\n",
              "      <td>3.407744e+07</td>\n",
              "      <td>3.399318e+07</td>\n",
              "      <td>8.690964e+06</td>\n",
              "      <td>8.598909e+06</td>\n",
              "      <td>4.088547e+07</td>\n",
              "      <td>4.058205e+07</td>\n",
              "      <td>13.813931</td>\n",
              "      <td>13.718185</td>\n",
              "      <td>23.348040</td>\n",
              "      <td>23.144838</td>\n",
              "    </tr>\n",
              "    <tr>\n",
              "      <th>min</th>\n",
              "      <td>5.000499e+07</td>\n",
              "      <td>5.001518e+07</td>\n",
              "      <td>0.000098</td>\n",
              "      <td>0.000007</td>\n",
              "      <td>-4.775745e+07</td>\n",
              "      <td>-4.869758e+07</td>\n",
              "      <td>2.003301e+07</td>\n",
              "      <td>2.003945e+07</td>\n",
              "      <td>1.200472e+08</td>\n",
              "      <td>1.200498e+08</td>\n",
              "      <td>1.258970e+05</td>\n",
              "      <td>1.001980e+07</td>\n",
              "      <td>2.063075e+07</td>\n",
              "      <td>2.080315e+07</td>\n",
              "      <td>0.000000</td>\n",
              "      <td>0.000000</td>\n",
              "      <td>0.000000</td>\n",
              "      <td>0.000000</td>\n",
              "    </tr>\n",
              "    <tr>\n",
              "      <th>25%</th>\n",
              "      <td>7.178802e+07</td>\n",
              "      <td>7.299453e+07</td>\n",
              "      <td>0.253985</td>\n",
              "      <td>0.239625</td>\n",
              "      <td>-6.030058e+06</td>\n",
              "      <td>-4.201927e+06</td>\n",
              "      <td>3.995161e+07</td>\n",
              "      <td>4.103766e+07</td>\n",
              "      <td>1.399093e+08</td>\n",
              "      <td>1.403411e+08</td>\n",
              "      <td>1.018294e+07</td>\n",
              "      <td>1.781578e+07</td>\n",
              "      <td>7.883061e+07</td>\n",
              "      <td>8.130192e+07</td>\n",
              "      <td>0.000000</td>\n",
              "      <td>0.000000</td>\n",
              "      <td>0.000000</td>\n",
              "      <td>0.000000</td>\n",
              "    </tr>\n",
              "    <tr>\n",
              "      <th>50%</th>\n",
              "      <td>9.104714e+07</td>\n",
              "      <td>9.106843e+07</td>\n",
              "      <td>0.512878</td>\n",
              "      <td>0.508329</td>\n",
              "      <td>1.641342e+07</td>\n",
              "      <td>1.754001e+07</td>\n",
              "      <td>6.001215e+07</td>\n",
              "      <td>6.090982e+07</td>\n",
              "      <td>1.650409e+08</td>\n",
              "      <td>1.649616e+08</td>\n",
              "      <td>1.767224e+07</td>\n",
              "      <td>2.528927e+07</td>\n",
              "      <td>1.065955e+08</td>\n",
              "      <td>1.069316e+08</td>\n",
              "      <td>10.787736</td>\n",
              "      <td>9.969864</td>\n",
              "      <td>20.854497</td>\n",
              "      <td>18.865991</td>\n",
              "    </tr>\n",
              "    <tr>\n",
              "      <th>75%</th>\n",
              "      <td>1.179365e+08</td>\n",
              "      <td>1.189492e+08</td>\n",
              "      <td>0.759916</td>\n",
              "      <td>0.743669</td>\n",
              "      <td>3.841285e+07</td>\n",
              "      <td>3.904699e+07</td>\n",
              "      <td>8.042310e+07</td>\n",
              "      <td>8.070269e+07</td>\n",
              "      <td>1.962644e+08</td>\n",
              "      <td>1.964649e+08</td>\n",
              "      <td>2.494508e+07</td>\n",
              "      <td>3.245916e+07</td>\n",
              "      <td>1.378194e+08</td>\n",
              "      <td>1.386966e+08</td>\n",
              "      <td>24.010941</td>\n",
              "      <td>23.393238</td>\n",
              "      <td>44.771884</td>\n",
              "      <td>44.034082</td>\n",
              "    </tr>\n",
              "    <tr>\n",
              "      <th>max</th>\n",
              "      <td>1.699342e+08</td>\n",
              "      <td>1.698822e+08</td>\n",
              "      <td>0.998468</td>\n",
              "      <td>0.999648</td>\n",
              "      <td>1.113085e+08</td>\n",
              "      <td>1.175304e+08</td>\n",
              "      <td>9.998582e+07</td>\n",
              "      <td>9.996462e+07</td>\n",
              "      <td>2.399805e+08</td>\n",
              "      <td>2.399194e+08</td>\n",
              "      <td>3.450495e+07</td>\n",
              "      <td>3.999486e+07</td>\n",
              "      <td>2.173750e+08</td>\n",
              "      <td>2.175571e+08</td>\n",
              "      <td>56.848255</td>\n",
              "      <td>57.132739</td>\n",
              "      <td>69.999891</td>\n",
              "      <td>69.751648</td>\n",
              "    </tr>\n",
              "  </tbody>\n",
              "</table>\n",
              "</div>\n",
              "      <button class=\"colab-df-convert\" onclick=\"convertToInteractive('df-85f4b240-8d88-47ad-bb54-37dab9363101')\"\n",
              "              title=\"Convert this dataframe to an interactive table.\"\n",
              "              style=\"display:none;\">\n",
              "        \n",
              "  <svg xmlns=\"http://www.w3.org/2000/svg\" height=\"24px\"viewBox=\"0 0 24 24\"\n",
              "       width=\"24px\">\n",
              "    <path d=\"M0 0h24v24H0V0z\" fill=\"none\"/>\n",
              "    <path d=\"M18.56 5.44l.94 2.06.94-2.06 2.06-.94-2.06-.94-.94-2.06-.94 2.06-2.06.94zm-11 1L8.5 8.5l.94-2.06 2.06-.94-2.06-.94L8.5 2.5l-.94 2.06-2.06.94zm10 10l.94 2.06.94-2.06 2.06-.94-2.06-.94-.94-2.06-.94 2.06-2.06.94z\"/><path d=\"M17.41 7.96l-1.37-1.37c-.4-.4-.92-.59-1.43-.59-.52 0-1.04.2-1.43.59L10.3 9.45l-7.72 7.72c-.78.78-.78 2.05 0 2.83L4 21.41c.39.39.9.59 1.41.59.51 0 1.02-.2 1.41-.59l7.78-7.78 2.81-2.81c.8-.78.8-2.07 0-2.86zM5.41 20L4 18.59l7.72-7.72 1.47 1.35L5.41 20z\"/>\n",
              "  </svg>\n",
              "      </button>\n",
              "      \n",
              "  <style>\n",
              "    .colab-df-container {\n",
              "      display:flex;\n",
              "      flex-wrap:wrap;\n",
              "      gap: 12px;\n",
              "    }\n",
              "\n",
              "    .colab-df-convert {\n",
              "      background-color: #E8F0FE;\n",
              "      border: none;\n",
              "      border-radius: 50%;\n",
              "      cursor: pointer;\n",
              "      display: none;\n",
              "      fill: #1967D2;\n",
              "      height: 32px;\n",
              "      padding: 0 0 0 0;\n",
              "      width: 32px;\n",
              "    }\n",
              "\n",
              "    .colab-df-convert:hover {\n",
              "      background-color: #E2EBFA;\n",
              "      box-shadow: 0px 1px 2px rgba(60, 64, 67, 0.3), 0px 1px 3px 1px rgba(60, 64, 67, 0.15);\n",
              "      fill: #174EA6;\n",
              "    }\n",
              "\n",
              "    [theme=dark] .colab-df-convert {\n",
              "      background-color: #3B4455;\n",
              "      fill: #D2E3FC;\n",
              "    }\n",
              "\n",
              "    [theme=dark] .colab-df-convert:hover {\n",
              "      background-color: #434B5C;\n",
              "      box-shadow: 0px 1px 3px 1px rgba(0, 0, 0, 0.15);\n",
              "      filter: drop-shadow(0px 1px 2px rgba(0, 0, 0, 0.3));\n",
              "      fill: #FFFFFF;\n",
              "    }\n",
              "  </style>\n",
              "\n",
              "      <script>\n",
              "        const buttonEl =\n",
              "          document.querySelector('#df-85f4b240-8d88-47ad-bb54-37dab9363101 button.colab-df-convert');\n",
              "        buttonEl.style.display =\n",
              "          google.colab.kernel.accessAllowed ? 'block' : 'none';\n",
              "\n",
              "        async function convertToInteractive(key) {\n",
              "          const element = document.querySelector('#df-85f4b240-8d88-47ad-bb54-37dab9363101');\n",
              "          const dataTable =\n",
              "            await google.colab.kernel.invokeFunction('convertToInteractive',\n",
              "                                                     [key], {});\n",
              "          if (!dataTable) return;\n",
              "\n",
              "          const docLinkHtml = 'Like what you see? Visit the ' +\n",
              "            '<a target=\"_blank\" href=https://colab.research.google.com/notebooks/data_table.ipynb>data table notebook</a>'\n",
              "            + ' to learn more about interactive tables.';\n",
              "          element.innerHTML = '';\n",
              "          dataTable['output_type'] = 'display_data';\n",
              "          await google.colab.output.renderOutput(dataTable, element);\n",
              "          const docLink = document.createElement('div');\n",
              "          docLink.innerHTML = docLinkHtml;\n",
              "          element.appendChild(docLink);\n",
              "        }\n",
              "      </script>\n",
              "    </div>\n",
              "  </div>\n",
              "  "
            ]
          },
          "metadata": {},
          "execution_count": 63
        }
      ]
    },
    {
      "cell_type": "markdown",
      "source": [
        "## Label Encoder"
      ],
      "metadata": {
        "id": "NXEFy749ygl4"
      }
    },
    {
      "cell_type": "code",
      "source": [
        "df.columns"
      ],
      "metadata": {
        "colab": {
          "base_uri": "https://localhost:8080/"
        },
        "id": "7n6mJuRazZfc",
        "outputId": "aba05b7a-0654-4604-b3fd-7decc6d8b0f3"
      },
      "execution_count": null,
      "outputs": [
        {
          "output_type": "execute_result",
          "data": {
            "text/plain": [
              "Index(['PENJUALAN_2021', 'PENJUALAN_2020', 'RATIO_BEBAN-PENJUALAN_2021',\n",
              "       'RATIO_BEBAN-PENJUALAN_2020', 'SUMBER_LABA_UTAMA_2021',\n",
              "       'SUMBER_LABA_UTAMA_2020', 'LABA_RUGI_2021', 'LABA_RUGI_2020',\n",
              "       'LIABILITAS_2021', 'LIABILITAS_2020', 'ASET_2021', 'ASET_2020',\n",
              "       'KAS_2021', 'KAS_2020', 'Performa', 'STATUS_LABA_RUGI_2020',\n",
              "       'STATUS_LABA_RUGI_2021', 'MODAL_2020', 'MODAL_2021', 'ROA_2020',\n",
              "       'ROA_2021', 'NPM_2020', 'NPM_2021'],\n",
              "      dtype='object')"
            ]
          },
          "metadata": {},
          "execution_count": 64
        }
      ]
    },
    {
      "cell_type": "code",
      "source": [
        "from sklearn.preprocessing import LabelEncoder\n",
        "labelencoder = LabelEncoder()\n",
        "df['Performa'] = labelencoder.fit_transform(df['Performa'])\n",
        "df['SUMBER_LABA_UTAMA_2021'] = labelencoder.fit_transform(df['SUMBER_LABA_UTAMA_2021'])\n",
        "df['SUMBER_LABA_UTAMA_2020'] = labelencoder.fit_transform(df['SUMBER_LABA_UTAMA_2020'])\n",
        "df['STATUS_LABA_RUGI_2020'] = labelencoder.fit_transform(df['STATUS_LABA_RUGI_2020'])\n",
        "df['STATUS_LABA_RUGI_2021'] = labelencoder.fit_transform(df['STATUS_LABA_RUGI_2021'])"
      ],
      "metadata": {
        "id": "RErYZVinxFmg"
      },
      "execution_count": null,
      "outputs": []
    },
    {
      "cell_type": "code",
      "source": [
        "df"
      ],
      "metadata": {
        "colab": {
          "base_uri": "https://localhost:8080/",
          "height": 505
        },
        "id": "yc2MmPgoz7IL",
        "outputId": "0ce1a4b0-645f-4f6b-ab09-d0cd8cbde212"
      },
      "execution_count": null,
      "outputs": [
        {
          "output_type": "execute_result",
          "data": {
            "text/plain": [
              "      PENJUALAN_2021  PENJUALAN_2020  RATIO_BEBAN-PENJUALAN_2021  \\\n",
              "0          149207164       136533758                    0.868180   \n",
              "1           88706100        85686167                    0.978567   \n",
              "2          108887378        78405829                    0.060155   \n",
              "3          133103033       120427245                    0.531613   \n",
              "4          136475517        86949433                    0.229927   \n",
              "...              ...             ...                         ...   \n",
              "2391        86151462        56251248                    0.369942   \n",
              "2392        79018780        78193480                    0.018995   \n",
              "2393        66627588        66032969                    0.146511   \n",
              "2394        95551880        85640492                    0.210149   \n",
              "2395        99608104        98054434                    0.105831   \n",
              "\n",
              "      RATIO_BEBAN-PENJUALAN_2020  SUMBER_LABA_UTAMA_2021  \\\n",
              "0                       0.855826                       1   \n",
              "1                       0.731140                       0   \n",
              "2                       0.080936                       1   \n",
              "3                       0.989463                       1   \n",
              "4                       0.162016                       0   \n",
              "...                          ...                     ...   \n",
              "2391                    0.552569                       1   \n",
              "2392                    0.183699                       1   \n",
              "2393                    0.396832                       1   \n",
              "2394                    0.405703                       1   \n",
              "2395                    0.718861                       1   \n",
              "\n",
              "      SUMBER_LABA_UTAMA_2020  LABA_RUGI_2021  LABA_RUGI_2020  LIABILITAS_2021  \\\n",
              "0                          1     87607042.61    7.317358e+07         20792734   \n",
              "1                          1     56371242.72    4.835652e+07         24472651   \n",
              "2                          1     48611150.54    3.990873e+07         20586078   \n",
              "3                          1     36119898.81    4.587488e+06         26786479   \n",
              "4                          0     57734181.32    4.935491e+07         33833705   \n",
              "...                      ...             ...             ...              ...   \n",
              "2391                       1     19074713.31    2.292094e+07         23961701   \n",
              "2392                       1     25879618.85    5.652371e+05         25082845   \n",
              "2393                       1     21646570.07   -2.574830e+05         25078924   \n",
              "2394                       1     51529476.88    1.468438e+07         20033006   \n",
              "2395                       1     40058502.64    4.865070e+07         23395404   \n",
              "\n",
              "      LIABILITAS_2020  ...  KAS_2020  Performa  STATUS_LABA_RUGI_2020  \\\n",
              "0            84451989  ...  11437529         0                      0   \n",
              "1            98329359  ...  36333943         1                      0   \n",
              "2            67450502  ...  10186417         0                      0   \n",
              "3            79683551  ...  30149281         0                      0   \n",
              "4            96559757  ...  11705490         1                      0   \n",
              "...               ...  ...       ...       ...                    ...   \n",
              "2391         53247265  ...  14190684         0                      0   \n",
              "2392         56940385  ...  15529981         0                      0   \n",
              "2393         59292382  ...  28929122         0                      1   \n",
              "2394         48409428  ...  29255719         0                      0   \n",
              "2395         60059609  ...  38738372         0                      0   \n",
              "\n",
              "      STATUS_LABA_RUGI_2021  MODAL_2020  MODAL_2021   ROA_2020   ROA_2021  \\\n",
              "0                         0    99208302   174614247  39.841808  44.833118   \n",
              "1                         0   100686408   150183347  24.297832  32.275584   \n",
              "2                         0   110079144   161961584  22.480039  26.629292   \n",
              "3                         0   105630694   163333330   2.475518  18.998493   \n",
              "4                         0    98867018   162562575  25.254938  29.396779   \n",
              "...                     ...         ...         ...        ...        ...   \n",
              "2391                      0    93234496   120878705  15.647642  13.169470   \n",
              "2392                      0   101757754   114602065   0.356171  18.527140   \n",
              "2393                      0    83752595   130350751   0.000000  13.926922   \n",
              "2394                      0    78259460   131918404  11.592731  33.911812   \n",
              "2395                      0    96490102   106285466  31.076836  30.890063   \n",
              "\n",
              "       NPM_2020   NPM_2021  \n",
              "0     53.593764  58.715038  \n",
              "1     56.434449  63.548327  \n",
              "2     50.900212  44.643513  \n",
              "3      3.809344  27.136796  \n",
              "4     56.762775  42.303691  \n",
              "...         ...        ...  \n",
              "2391  40.747437  22.140905  \n",
              "2392   0.722870  32.751226  \n",
              "2393   0.000000  32.488899  \n",
              "2394  17.146542  53.928271  \n",
              "2395  49.616009  40.216108  \n",
              "\n",
              "[2396 rows x 23 columns]"
            ],
            "text/html": [
              "\n",
              "  <div id=\"df-ae0b0337-7f49-44a3-b659-c6d2a9f52acb\">\n",
              "    <div class=\"colab-df-container\">\n",
              "      <div>\n",
              "<style scoped>\n",
              "    .dataframe tbody tr th:only-of-type {\n",
              "        vertical-align: middle;\n",
              "    }\n",
              "\n",
              "    .dataframe tbody tr th {\n",
              "        vertical-align: top;\n",
              "    }\n",
              "\n",
              "    .dataframe thead th {\n",
              "        text-align: right;\n",
              "    }\n",
              "</style>\n",
              "<table border=\"1\" class=\"dataframe\">\n",
              "  <thead>\n",
              "    <tr style=\"text-align: right;\">\n",
              "      <th></th>\n",
              "      <th>PENJUALAN_2021</th>\n",
              "      <th>PENJUALAN_2020</th>\n",
              "      <th>RATIO_BEBAN-PENJUALAN_2021</th>\n",
              "      <th>RATIO_BEBAN-PENJUALAN_2020</th>\n",
              "      <th>SUMBER_LABA_UTAMA_2021</th>\n",
              "      <th>SUMBER_LABA_UTAMA_2020</th>\n",
              "      <th>LABA_RUGI_2021</th>\n",
              "      <th>LABA_RUGI_2020</th>\n",
              "      <th>LIABILITAS_2021</th>\n",
              "      <th>LIABILITAS_2020</th>\n",
              "      <th>...</th>\n",
              "      <th>KAS_2020</th>\n",
              "      <th>Performa</th>\n",
              "      <th>STATUS_LABA_RUGI_2020</th>\n",
              "      <th>STATUS_LABA_RUGI_2021</th>\n",
              "      <th>MODAL_2020</th>\n",
              "      <th>MODAL_2021</th>\n",
              "      <th>ROA_2020</th>\n",
              "      <th>ROA_2021</th>\n",
              "      <th>NPM_2020</th>\n",
              "      <th>NPM_2021</th>\n",
              "    </tr>\n",
              "  </thead>\n",
              "  <tbody>\n",
              "    <tr>\n",
              "      <th>0</th>\n",
              "      <td>149207164</td>\n",
              "      <td>136533758</td>\n",
              "      <td>0.868180</td>\n",
              "      <td>0.855826</td>\n",
              "      <td>1</td>\n",
              "      <td>1</td>\n",
              "      <td>87607042.61</td>\n",
              "      <td>7.317358e+07</td>\n",
              "      <td>20792734</td>\n",
              "      <td>84451989</td>\n",
              "      <td>...</td>\n",
              "      <td>11437529</td>\n",
              "      <td>0</td>\n",
              "      <td>0</td>\n",
              "      <td>0</td>\n",
              "      <td>99208302</td>\n",
              "      <td>174614247</td>\n",
              "      <td>39.841808</td>\n",
              "      <td>44.833118</td>\n",
              "      <td>53.593764</td>\n",
              "      <td>58.715038</td>\n",
              "    </tr>\n",
              "    <tr>\n",
              "      <th>1</th>\n",
              "      <td>88706100</td>\n",
              "      <td>85686167</td>\n",
              "      <td>0.978567</td>\n",
              "      <td>0.731140</td>\n",
              "      <td>0</td>\n",
              "      <td>1</td>\n",
              "      <td>56371242.72</td>\n",
              "      <td>4.835652e+07</td>\n",
              "      <td>24472651</td>\n",
              "      <td>98329359</td>\n",
              "      <td>...</td>\n",
              "      <td>36333943</td>\n",
              "      <td>1</td>\n",
              "      <td>0</td>\n",
              "      <td>0</td>\n",
              "      <td>100686408</td>\n",
              "      <td>150183347</td>\n",
              "      <td>24.297832</td>\n",
              "      <td>32.275584</td>\n",
              "      <td>56.434449</td>\n",
              "      <td>63.548327</td>\n",
              "    </tr>\n",
              "    <tr>\n",
              "      <th>2</th>\n",
              "      <td>108887378</td>\n",
              "      <td>78405829</td>\n",
              "      <td>0.060155</td>\n",
              "      <td>0.080936</td>\n",
              "      <td>1</td>\n",
              "      <td>1</td>\n",
              "      <td>48611150.54</td>\n",
              "      <td>3.990873e+07</td>\n",
              "      <td>20586078</td>\n",
              "      <td>67450502</td>\n",
              "      <td>...</td>\n",
              "      <td>10186417</td>\n",
              "      <td>0</td>\n",
              "      <td>0</td>\n",
              "      <td>0</td>\n",
              "      <td>110079144</td>\n",
              "      <td>161961584</td>\n",
              "      <td>22.480039</td>\n",
              "      <td>26.629292</td>\n",
              "      <td>50.900212</td>\n",
              "      <td>44.643513</td>\n",
              "    </tr>\n",
              "    <tr>\n",
              "      <th>3</th>\n",
              "      <td>133103033</td>\n",
              "      <td>120427245</td>\n",
              "      <td>0.531613</td>\n",
              "      <td>0.989463</td>\n",
              "      <td>1</td>\n",
              "      <td>1</td>\n",
              "      <td>36119898.81</td>\n",
              "      <td>4.587488e+06</td>\n",
              "      <td>26786479</td>\n",
              "      <td>79683551</td>\n",
              "      <td>...</td>\n",
              "      <td>30149281</td>\n",
              "      <td>0</td>\n",
              "      <td>0</td>\n",
              "      <td>0</td>\n",
              "      <td>105630694</td>\n",
              "      <td>163333330</td>\n",
              "      <td>2.475518</td>\n",
              "      <td>18.998493</td>\n",
              "      <td>3.809344</td>\n",
              "      <td>27.136796</td>\n",
              "    </tr>\n",
              "    <tr>\n",
              "      <th>4</th>\n",
              "      <td>136475517</td>\n",
              "      <td>86949433</td>\n",
              "      <td>0.229927</td>\n",
              "      <td>0.162016</td>\n",
              "      <td>0</td>\n",
              "      <td>0</td>\n",
              "      <td>57734181.32</td>\n",
              "      <td>4.935491e+07</td>\n",
              "      <td>33833705</td>\n",
              "      <td>96559757</td>\n",
              "      <td>...</td>\n",
              "      <td>11705490</td>\n",
              "      <td>1</td>\n",
              "      <td>0</td>\n",
              "      <td>0</td>\n",
              "      <td>98867018</td>\n",
              "      <td>162562575</td>\n",
              "      <td>25.254938</td>\n",
              "      <td>29.396779</td>\n",
              "      <td>56.762775</td>\n",
              "      <td>42.303691</td>\n",
              "    </tr>\n",
              "    <tr>\n",
              "      <th>...</th>\n",
              "      <td>...</td>\n",
              "      <td>...</td>\n",
              "      <td>...</td>\n",
              "      <td>...</td>\n",
              "      <td>...</td>\n",
              "      <td>...</td>\n",
              "      <td>...</td>\n",
              "      <td>...</td>\n",
              "      <td>...</td>\n",
              "      <td>...</td>\n",
              "      <td>...</td>\n",
              "      <td>...</td>\n",
              "      <td>...</td>\n",
              "      <td>...</td>\n",
              "      <td>...</td>\n",
              "      <td>...</td>\n",
              "      <td>...</td>\n",
              "      <td>...</td>\n",
              "      <td>...</td>\n",
              "      <td>...</td>\n",
              "      <td>...</td>\n",
              "    </tr>\n",
              "    <tr>\n",
              "      <th>2391</th>\n",
              "      <td>86151462</td>\n",
              "      <td>56251248</td>\n",
              "      <td>0.369942</td>\n",
              "      <td>0.552569</td>\n",
              "      <td>1</td>\n",
              "      <td>1</td>\n",
              "      <td>19074713.31</td>\n",
              "      <td>2.292094e+07</td>\n",
              "      <td>23961701</td>\n",
              "      <td>53247265</td>\n",
              "      <td>...</td>\n",
              "      <td>14190684</td>\n",
              "      <td>0</td>\n",
              "      <td>0</td>\n",
              "      <td>0</td>\n",
              "      <td>93234496</td>\n",
              "      <td>120878705</td>\n",
              "      <td>15.647642</td>\n",
              "      <td>13.169470</td>\n",
              "      <td>40.747437</td>\n",
              "      <td>22.140905</td>\n",
              "    </tr>\n",
              "    <tr>\n",
              "      <th>2392</th>\n",
              "      <td>79018780</td>\n",
              "      <td>78193480</td>\n",
              "      <td>0.018995</td>\n",
              "      <td>0.183699</td>\n",
              "      <td>1</td>\n",
              "      <td>1</td>\n",
              "      <td>25879618.85</td>\n",
              "      <td>5.652371e+05</td>\n",
              "      <td>25082845</td>\n",
              "      <td>56940385</td>\n",
              "      <td>...</td>\n",
              "      <td>15529981</td>\n",
              "      <td>0</td>\n",
              "      <td>0</td>\n",
              "      <td>0</td>\n",
              "      <td>101757754</td>\n",
              "      <td>114602065</td>\n",
              "      <td>0.356171</td>\n",
              "      <td>18.527140</td>\n",
              "      <td>0.722870</td>\n",
              "      <td>32.751226</td>\n",
              "    </tr>\n",
              "    <tr>\n",
              "      <th>2393</th>\n",
              "      <td>66627588</td>\n",
              "      <td>66032969</td>\n",
              "      <td>0.146511</td>\n",
              "      <td>0.396832</td>\n",
              "      <td>1</td>\n",
              "      <td>1</td>\n",
              "      <td>21646570.07</td>\n",
              "      <td>-2.574830e+05</td>\n",
              "      <td>25078924</td>\n",
              "      <td>59292382</td>\n",
              "      <td>...</td>\n",
              "      <td>28929122</td>\n",
              "      <td>0</td>\n",
              "      <td>1</td>\n",
              "      <td>0</td>\n",
              "      <td>83752595</td>\n",
              "      <td>130350751</td>\n",
              "      <td>0.000000</td>\n",
              "      <td>13.926922</td>\n",
              "      <td>0.000000</td>\n",
              "      <td>32.488899</td>\n",
              "    </tr>\n",
              "    <tr>\n",
              "      <th>2394</th>\n",
              "      <td>95551880</td>\n",
              "      <td>85640492</td>\n",
              "      <td>0.210149</td>\n",
              "      <td>0.405703</td>\n",
              "      <td>1</td>\n",
              "      <td>1</td>\n",
              "      <td>51529476.88</td>\n",
              "      <td>1.468438e+07</td>\n",
              "      <td>20033006</td>\n",
              "      <td>48409428</td>\n",
              "      <td>...</td>\n",
              "      <td>29255719</td>\n",
              "      <td>0</td>\n",
              "      <td>0</td>\n",
              "      <td>0</td>\n",
              "      <td>78259460</td>\n",
              "      <td>131918404</td>\n",
              "      <td>11.592731</td>\n",
              "      <td>33.911812</td>\n",
              "      <td>17.146542</td>\n",
              "      <td>53.928271</td>\n",
              "    </tr>\n",
              "    <tr>\n",
              "      <th>2395</th>\n",
              "      <td>99608104</td>\n",
              "      <td>98054434</td>\n",
              "      <td>0.105831</td>\n",
              "      <td>0.718861</td>\n",
              "      <td>1</td>\n",
              "      <td>1</td>\n",
              "      <td>40058502.64</td>\n",
              "      <td>4.865070e+07</td>\n",
              "      <td>23395404</td>\n",
              "      <td>60059609</td>\n",
              "      <td>...</td>\n",
              "      <td>38738372</td>\n",
              "      <td>0</td>\n",
              "      <td>0</td>\n",
              "      <td>0</td>\n",
              "      <td>96490102</td>\n",
              "      <td>106285466</td>\n",
              "      <td>31.076836</td>\n",
              "      <td>30.890063</td>\n",
              "      <td>49.616009</td>\n",
              "      <td>40.216108</td>\n",
              "    </tr>\n",
              "  </tbody>\n",
              "</table>\n",
              "<p>2396 rows × 23 columns</p>\n",
              "</div>\n",
              "      <button class=\"colab-df-convert\" onclick=\"convertToInteractive('df-ae0b0337-7f49-44a3-b659-c6d2a9f52acb')\"\n",
              "              title=\"Convert this dataframe to an interactive table.\"\n",
              "              style=\"display:none;\">\n",
              "        \n",
              "  <svg xmlns=\"http://www.w3.org/2000/svg\" height=\"24px\"viewBox=\"0 0 24 24\"\n",
              "       width=\"24px\">\n",
              "    <path d=\"M0 0h24v24H0V0z\" fill=\"none\"/>\n",
              "    <path d=\"M18.56 5.44l.94 2.06.94-2.06 2.06-.94-2.06-.94-.94-2.06-.94 2.06-2.06.94zm-11 1L8.5 8.5l.94-2.06 2.06-.94-2.06-.94L8.5 2.5l-.94 2.06-2.06.94zm10 10l.94 2.06.94-2.06 2.06-.94-2.06-.94-.94-2.06-.94 2.06-2.06.94z\"/><path d=\"M17.41 7.96l-1.37-1.37c-.4-.4-.92-.59-1.43-.59-.52 0-1.04.2-1.43.59L10.3 9.45l-7.72 7.72c-.78.78-.78 2.05 0 2.83L4 21.41c.39.39.9.59 1.41.59.51 0 1.02-.2 1.41-.59l7.78-7.78 2.81-2.81c.8-.78.8-2.07 0-2.86zM5.41 20L4 18.59l7.72-7.72 1.47 1.35L5.41 20z\"/>\n",
              "  </svg>\n",
              "      </button>\n",
              "      \n",
              "  <style>\n",
              "    .colab-df-container {\n",
              "      display:flex;\n",
              "      flex-wrap:wrap;\n",
              "      gap: 12px;\n",
              "    }\n",
              "\n",
              "    .colab-df-convert {\n",
              "      background-color: #E8F0FE;\n",
              "      border: none;\n",
              "      border-radius: 50%;\n",
              "      cursor: pointer;\n",
              "      display: none;\n",
              "      fill: #1967D2;\n",
              "      height: 32px;\n",
              "      padding: 0 0 0 0;\n",
              "      width: 32px;\n",
              "    }\n",
              "\n",
              "    .colab-df-convert:hover {\n",
              "      background-color: #E2EBFA;\n",
              "      box-shadow: 0px 1px 2px rgba(60, 64, 67, 0.3), 0px 1px 3px 1px rgba(60, 64, 67, 0.15);\n",
              "      fill: #174EA6;\n",
              "    }\n",
              "\n",
              "    [theme=dark] .colab-df-convert {\n",
              "      background-color: #3B4455;\n",
              "      fill: #D2E3FC;\n",
              "    }\n",
              "\n",
              "    [theme=dark] .colab-df-convert:hover {\n",
              "      background-color: #434B5C;\n",
              "      box-shadow: 0px 1px 3px 1px rgba(0, 0, 0, 0.15);\n",
              "      filter: drop-shadow(0px 1px 2px rgba(0, 0, 0, 0.3));\n",
              "      fill: #FFFFFF;\n",
              "    }\n",
              "  </style>\n",
              "\n",
              "      <script>\n",
              "        const buttonEl =\n",
              "          document.querySelector('#df-ae0b0337-7f49-44a3-b659-c6d2a9f52acb button.colab-df-convert');\n",
              "        buttonEl.style.display =\n",
              "          google.colab.kernel.accessAllowed ? 'block' : 'none';\n",
              "\n",
              "        async function convertToInteractive(key) {\n",
              "          const element = document.querySelector('#df-ae0b0337-7f49-44a3-b659-c6d2a9f52acb');\n",
              "          const dataTable =\n",
              "            await google.colab.kernel.invokeFunction('convertToInteractive',\n",
              "                                                     [key], {});\n",
              "          if (!dataTable) return;\n",
              "\n",
              "          const docLinkHtml = 'Like what you see? Visit the ' +\n",
              "            '<a target=\"_blank\" href=https://colab.research.google.com/notebooks/data_table.ipynb>data table notebook</a>'\n",
              "            + ' to learn more about interactive tables.';\n",
              "          element.innerHTML = '';\n",
              "          dataTable['output_type'] = 'display_data';\n",
              "          await google.colab.output.renderOutput(dataTable, element);\n",
              "          const docLink = document.createElement('div');\n",
              "          docLink.innerHTML = docLinkHtml;\n",
              "          element.appendChild(docLink);\n",
              "        }\n",
              "      </script>\n",
              "    </div>\n",
              "  </div>\n",
              "  "
            ]
          },
          "metadata": {},
          "execution_count": 66
        }
      ]
    },
    {
      "cell_type": "code",
      "source": [
        "import seaborn as sns\n",
        "import matplotlib.pyplot as plt\n",
        "\n",
        "\n",
        "corrmat = df.corr()\n",
        "\n",
        "f, ax = plt.subplots(figsize =(9, 8))\n",
        "sns.heatmap(corrmat, ax = ax, cmap =\"YlGnBu\", linewidths = 0.1)"
      ],
      "metadata": {
        "colab": {
          "base_uri": "https://localhost:8080/",
          "height": 653
        },
        "id": "AxHrWm1-z8gO",
        "outputId": "374ea47f-8d62-4bf7-ce8d-229f0ce6637e"
      },
      "execution_count": null,
      "outputs": [
        {
          "output_type": "execute_result",
          "data": {
            "text/plain": [
              "<matplotlib.axes._subplots.AxesSubplot at 0x7f35bb433650>"
            ]
          },
          "metadata": {},
          "execution_count": 67
        },
        {
          "output_type": "display_data",
          "data": {
            "text/plain": [
              "<Figure size 648x576 with 2 Axes>"
            ],
            "image/png": "[encoded data removed]"
          },
          "metadata": {
            "needs_background": "light"
          }
        }
      ]
    },
    {
      "cell_type": "code",
      "source": [
        "corrmat['Performa'].sort_values(ascending=False)"
      ],
      "metadata": {
        "colab": {
          "base_uri": "https://localhost:8080/"
        },
        "id": "p7W0lFX70E1V",
        "outputId": "2f8d420c-dea2-48fc-f4bf-fc647cecd364"
      },
      "execution_count": null,
      "outputs": [
        {
          "output_type": "execute_result",
          "data": {
            "text/plain": [
              "Performa                      1.000000\n",
              "STATUS_LABA_RUGI_2021         0.186855\n",
              "LIABILITAS_2021               0.162787\n",
              "RATIO_BEBAN-PENJUALAN_2021    0.123039\n",
              "ROA_2020                      0.048209\n",
              "LIABILITAS_2020               0.045755\n",
              "PENJUALAN_2020                0.025341\n",
              "NPM_2020                      0.024494\n",
              "KAS_2021                      0.020908\n",
              "KAS_2020                      0.020398\n",
              "LABA_RUGI_2020                0.018868\n",
              "STATUS_LABA_RUGI_2020        -0.011680\n",
              "SUMBER_LABA_UTAMA_2020       -0.021758\n",
              "RATIO_BEBAN-PENJUALAN_2020   -0.094683\n",
              "ASET_2021                    -0.101107\n",
              "ASET_2020                    -0.106052\n",
              "MODAL_2020                   -0.114113\n",
              "SUMBER_LABA_UTAMA_2021       -0.115476\n",
              "MODAL_2021                   -0.177387\n",
              "NPM_2021                     -0.187789\n",
              "PENJUALAN_2021               -0.187812\n",
              "ROA_2021                     -0.242454\n",
              "LABA_RUGI_2021               -0.262893\n",
              "Name: Performa, dtype: float64"
            ]
          },
          "metadata": {},
          "execution_count": 68
        }
      ]
    },
    {
      "cell_type": "markdown",
      "source": [
        "## Train Test Split"
      ],
      "metadata": {
        "id": "pQ9QvGTO0Nj9"
      }
    },
    {
      "cell_type": "code",
      "source": [
        "from sklearn.model_selection import train_test_split\n",
        "\n",
        "##partition data into data training and data testing\n",
        "train,test = train_test_split(df,test_size = 0.20 ,random_state = 123)\n",
        "\n",
        "##seperating dependent and independent variables on training and testing data\n",
        "train_X = train.drop(labels='Performa',axis=1)\n",
        "train_Y = train['Performa'].astype('int')\n",
        "test_X  = test.drop(labels='Performa',axis=1)\n",
        "test_Y  = test['Performa'].astype('int')"
      ],
      "metadata": {
        "id": "dbaSp7MV0HCt"
      },
      "execution_count": null,
      "outputs": []
    },
    {
      "cell_type": "markdown",
      "metadata": {
        "id": "lV0JxN7i-J0u"
      },
      "source": [
        "## SMOTE (Synthetic Minority Oversampling Technique)"
      ]
    },
    {
      "cell_type": "code",
      "metadata": {
        "id": "g3R7JOAZ-J0u"
      },
      "source": [
        "from imblearn.over_sampling import SMOTE\n",
        "\n",
        "#handle imbalance class using oversampling minority class with smote method\n",
        "os = SMOTE(sampling_strategy='minority',random_state = 123,k_neighbors=5)\n",
        "train_smote_X,train_smote_Y = os.fit_resample(train_X,train_Y)\n",
        "train_smote_X = pd.DataFrame(data = train_smote_X,columns=train_X.columns)\n",
        "train_smote_Y = pd.DataFrame(data = train_smote_Y)"
      ],
      "execution_count": null,
      "outputs": []
    },
    {
      "cell_type": "code",
      "metadata": {
        "colab": {
          "base_uri": "https://localhost:8080/"
        },
        "id": "9hIx3elH-J0u",
        "outputId": "3e4ff444-92f2-4162-f647-041dd5a9da12"
      },
      "source": [
        "#Proportion before smote\n",
        "train_Y.value_counts()"
      ],
      "execution_count": null,
      "outputs": [
        {
          "output_type": "execute_result",
          "data": {
            "text/plain": [
              "1    1779\n",
              "0     137\n",
              "Name: Performa, dtype: int64"
            ]
          },
          "metadata": {},
          "execution_count": 71
        }
      ]
    },
    {
      "cell_type": "code",
      "metadata": {
        "colab": {
          "base_uri": "https://localhost:8080/"
        },
        "id": "GL4BJu3X-J0u",
        "outputId": "ac9cd1e0-64c3-4919-a286-7885b43f852d"
      },
      "source": [
        "#Proportion after smote\n",
        "train_smote_Y.value_counts()"
      ],
      "execution_count": null,
      "outputs": [
        {
          "output_type": "execute_result",
          "data": {
            "text/plain": [
              "Performa\n",
              "0           1779\n",
              "1           1779\n",
              "dtype: int64"
            ]
          },
          "metadata": {},
          "execution_count": 72
        }
      ]
    },
    {
      "cell_type": "code",
      "source": [
        "train_X = train_smote_X\n",
        "train_Y = train_smote_Y\n",
        "#Proportion before smote\n",
        "train_Y.value_counts()"
      ],
      "metadata": {
        "colab": {
          "base_uri": "https://localhost:8080/"
        },
        "id": "xEm7rx0J2rhu",
        "outputId": "299c96d3-1e34-48bc-b155-1e6d3ddc307f"
      },
      "execution_count": null,
      "outputs": [
        {
          "output_type": "execute_result",
          "data": {
            "text/plain": [
              "Performa\n",
              "0           1779\n",
              "1           1779\n",
              "dtype: int64"
            ]
          },
          "metadata": {},
          "execution_count": 73
        }
      ]
    },
    {
      "cell_type": "markdown",
      "source": [
        "#Modeling"
      ],
      "metadata": {
        "id": "EeIAT7pD0iR3"
      }
    },
    {
      "cell_type": "markdown",
      "metadata": {
        "id": "b6e14d52"
      },
      "source": [
        "## DecisionTree"
      ]
    },
    {
      "cell_type": "code",
      "source": [
        "from sklearn import tree\n",
        "from sklearn.tree import DecisionTreeClassifier\n",
        "from sklearn.model_selection import GridSearchCV\n",
        "\n",
        "param_grid = {'max_features': ['auto', 'sqrt', 'log2'],\n",
        "              'ccp_alpha': [0.1, .01, .001],\n",
        "              'max_depth' : [5, 6, 7, 8, 9],\n",
        "              'criterion' :['gini', 'entropy']\n",
        "             }\n",
        "tree_clas = DecisionTreeClassifier()\n",
        "grid_search = GridSearchCV(estimator=tree_clas, param_grid=param_grid, cv=2, verbose=True)\n",
        "grid_search.fit(train_X, train_Y)"
      ],
      "metadata": {
        "colab": {
          "base_uri": "https://localhost:8080/"
        },
        "id": "vn_aRvVDUU4_",
        "outputId": "c3df1a13-f901-43c1-88f6-1132ed9e49de"
      },
      "execution_count": null,
      "outputs": [
        {
          "output_type": "stream",
          "name": "stdout",
          "text": [
            "Fitting 2 folds for each of 90 candidates, totalling 180 fits\n"
          ]
        },
        {
          "output_type": "execute_result",
          "data": {
            "text/plain": [
              "GridSearchCV(cv=2, estimator=DecisionTreeClassifier(),\n",
              "             param_grid={'ccp_alpha': [0.1, 0.01, 0.001],\n",
              "                         'criterion': ['gini', 'entropy'],\n",
              "                         'max_depth': [5, 6, 7, 8, 9],\n",
              "                         'max_features': ['auto', 'sqrt', 'log2']},\n",
              "             verbose=True)"
            ]
          },
          "metadata": {},
          "execution_count": 369
        }
      ]
    },
    {
      "cell_type": "code",
      "source": [
        "final_model = grid_search.best_estimator_\n",
        "final_model"
      ],
      "metadata": {
        "colab": {
          "base_uri": "https://localhost:8080/"
        },
        "id": "eneRmSgTVQYk",
        "outputId": "fd39a1c6-4677-49d8-a697-ff24d43bff87"
      },
      "execution_count": null,
      "outputs": [
        {
          "output_type": "execute_result",
          "data": {
            "text/plain": [
              "DecisionTreeClassifier(ccp_alpha=0.001, criterion='entropy', max_depth=9,\n",
              "                       max_features='log2')"
            ]
          },
          "metadata": {},
          "execution_count": 370
        }
      ]
    },
    {
      "cell_type": "code",
      "source": [
        "#Training the model\n",
        "tree_clas = DecisionTreeClassifier()\n",
        "tree_clas.fit(train_X, train_Y)\n",
        "pred_test = tree_clas.predict(test_X)\n",
        "pred_train = tree_clas.predict(train_X)"
      ],
      "metadata": {
        "id": "pJrHwiDZVT06"
      },
      "execution_count": null,
      "outputs": []
    },
    {
      "cell_type": "code",
      "source": [
        "print(\"Analysis Model DTR\")\n",
        "print(\"\")\n",
        "print(\"Analysis Metric Eror Model Training\")\n",
        "from sklearn.metrics import classification_report\n",
        "target_names = ['Belum_Sehat','Sehat']\n",
        "print(classification_report(train_Y, pred_train, target_names=target_names))\n",
        "from sklearn.metrics import confusion_matrix\n",
        "print('confusion_matrix : ')\n",
        "print(confusion_matrix(train_Y, pred_train))\n",
        "from sklearn.metrics import f1_score, accuracy_score\n",
        "print(\"accuracy_score : \", accuracy_score(train_Y, pred_train))\n",
        "print(\"f1_score macro : \",f1_score(train_Y, pred_train, average='macro'))\n",
        "print(\"f1_score micro : \",f1_score(train_Y, pred_train, average='micro'))\n",
        "print(\"f1_score weighted : \", f1_score(train_Y, pred_train, average='weighted'))\n",
        "print(\"f1_score : \", f1_score(train_Y, pred_train, average=None))\n",
        "print(\"\")\n",
        "print(\"\")\n",
        "print(\"Analysis Metric Eror Model Testing\")\n",
        "from sklearn.metrics import classification_report\n",
        "target_names = ['Belum_Sehat','Sehat']\n",
        "print(classification_report(test_Y, pred_test, target_names=target_names))\n",
        "from sklearn.metrics import confusion_matrix\n",
        "print('confusion_matrix : ')\n",
        "print(confusion_matrix(test_Y, pred_test))\n",
        "from sklearn.metrics import f1_score\n",
        "print(\"accuracy_score : \", accuracy_score(test_Y, pred_test))\n",
        "print(\"f1_score macro : \",f1_score(test_Y, pred_test, average='macro'))\n",
        "print(\"f1_score micro : \",f1_score(test_Y, pred_test, average='micro'))\n",
        "print(\"f1_score weighted : \", f1_score(test_Y, pred_test, average='weighted'))\n",
        "print(\"f1_score : \", f1_score(test_Y, pred_test, average=None))"
      ],
      "metadata": {
        "colab": {
          "base_uri": "https://localhost:8080/"
        },
        "id": "yve_JvsBcIQX",
        "outputId": "a038ee62-2ad6-4e04-f6c9-338253f00c45"
      },
      "execution_count": null,
      "outputs": [
        {
          "output_type": "stream",
          "name": "stdout",
          "text": [
            "Analysis Model DTR\n",
            "\n",
            "Analysis Metric Eror Model Training\n",
            "              precision    recall  f1-score   support\n",
            "\n",
            " Belum_Sehat       1.00      1.00      1.00      1779\n",
            "       Sehat       1.00      1.00      1.00      1779\n",
            "\n",
            "    accuracy                           1.00      3558\n",
            "   macro avg       1.00      1.00      1.00      3558\n",
            "weighted avg       1.00      1.00      1.00      3558\n",
            "\n",
            "confusion_matrix : \n",
            "[[1779    0]\n",
            " [   0 1779]]\n",
            "accuracy_score :  1.0\n",
            "f1_score macro :  1.0\n",
            "f1_score micro :  1.0\n",
            "f1_score weighted :  1.0\n",
            "f1_score :  [1. 1.]\n",
            "\n",
            "\n",
            "Analysis Metric Eror Model Testing\n",
            "              precision    recall  f1-score   support\n",
            "\n",
            " Belum_Sehat       0.35      0.41      0.38        29\n",
            "       Sehat       0.96      0.95      0.96       451\n",
            "\n",
            "    accuracy                           0.92       480\n",
            "   macro avg       0.66      0.68      0.67       480\n",
            "weighted avg       0.93      0.92      0.92       480\n",
            "\n",
            "confusion_matrix : \n",
            "[[ 12  17]\n",
            " [ 22 429]]\n",
            "accuracy_score :  0.91875\n",
            "f1_score macro :  0.6687370600414078\n",
            "f1_score micro :  0.91875\n",
            "f1_score weighted :  0.9217477570738439\n",
            "f1_score :  [0.38095238 0.95652174]\n"
          ]
        }
      ]
    },
    {
      "cell_type": "markdown",
      "metadata": {
        "id": "RUadlCOp-J0v"
      },
      "source": [
        "## Random Forest"
      ]
    },
    {
      "cell_type": "code",
      "metadata": {
        "id": "QW2XrfRg-J0v"
      },
      "source": [
        "from sklearn.ensemble import RandomForestClassifier\n",
        "rfc=RandomForestClassifier(random_state=123)\n",
        "param_grid = {\n",
        "    'n_estimators': [200, 500,1000],\n",
        "    'max_features': ['auto','log2'],\n",
        "    'criterion' :['entropy','gini']\n",
        "}"
      ],
      "execution_count": null,
      "outputs": []
    },
    {
      "cell_type": "code",
      "metadata": {
        "colab": {
          "base_uri": "https://localhost:8080/"
        },
        "id": "h1niSJPp-J0v",
        "outputId": "d37491ea-cefb-4dff-ecb3-d6416386dd7d"
      },
      "source": [
        "from sklearn.model_selection import GridSearchCV\n",
        "CV_rfc = GridSearchCV(estimator=rfc, param_grid=param_grid, cv= 2)\n",
        "CV_rfc.fit(train_X, train_Y)"
      ],
      "execution_count": null,
      "outputs": [
        {
          "output_type": "stream",
          "name": "stderr",
          "text": [
            "/usr/local/lib/python3.7/dist-packages/sklearn/model_selection/_validation.py:680: DataConversionWarning: A column-vector y was passed when a 1d array was expected. Please change the shape of y to (n_samples,), for example using ravel().\n",
            "  estimator.fit(X_train, y_train, **fit_params)\n",
            "/usr/local/lib/python3.7/dist-packages/sklearn/model_selection/_validation.py:680: DataConversionWarning: A column-vector y was passed when a 1d array was expected. Please change the shape of y to (n_samples,), for example using ravel().\n",
            "  estimator.fit(X_train, y_train, **fit_params)\n",
            "/usr/local/lib/python3.7/dist-packages/sklearn/model_selection/_validation.py:680: DataConversionWarning: A column-vector y was passed when a 1d array was expected. Please change the shape of y to (n_samples,), for example using ravel().\n",
            "  estimator.fit(X_train, y_train, **fit_params)\n",
            "/usr/local/lib/python3.7/dist-packages/sklearn/model_selection/_validation.py:680: DataConversionWarning: A column-vector y was passed when a 1d array was expected. Please change the shape of y to (n_samples,), for example using ravel().\n",
            "  estimator.fit(X_train, y_train, **fit_params)\n",
            "/usr/local/lib/python3.7/dist-packages/sklearn/model_selection/_validation.py:680: DataConversionWarning: A column-vector y was passed when a 1d array was expected. Please change the shape of y to (n_samples,), for example using ravel().\n",
            "  estimator.fit(X_train, y_train, **fit_params)\n",
            "/usr/local/lib/python3.7/dist-packages/sklearn/model_selection/_validation.py:680: DataConversionWarning: A column-vector y was passed when a 1d array was expected. Please change the shape of y to (n_samples,), for example using ravel().\n",
            "  estimator.fit(X_train, y_train, **fit_params)\n",
            "/usr/local/lib/python3.7/dist-packages/sklearn/model_selection/_validation.py:680: DataConversionWarning: A column-vector y was passed when a 1d array was expected. Please change the shape of y to (n_samples,), for example using ravel().\n",
            "  estimator.fit(X_train, y_train, **fit_params)\n",
            "/usr/local/lib/python3.7/dist-packages/sklearn/model_selection/_validation.py:680: DataConversionWarning: A column-vector y was passed when a 1d array was expected. Please change the shape of y to (n_samples,), for example using ravel().\n",
            "  estimator.fit(X_train, y_train, **fit_params)\n",
            "/usr/local/lib/python3.7/dist-packages/sklearn/model_selection/_validation.py:680: DataConversionWarning: A column-vector y was passed when a 1d array was expected. Please change the shape of y to (n_samples,), for example using ravel().\n",
            "  estimator.fit(X_train, y_train, **fit_params)\n",
            "/usr/local/lib/python3.7/dist-packages/sklearn/model_selection/_validation.py:680: DataConversionWarning: A column-vector y was passed when a 1d array was expected. Please change the shape of y to (n_samples,), for example using ravel().\n",
            "  estimator.fit(X_train, y_train, **fit_params)\n",
            "/usr/local/lib/python3.7/dist-packages/sklearn/model_selection/_validation.py:680: DataConversionWarning: A column-vector y was passed when a 1d array was expected. Please change the shape of y to (n_samples,), for example using ravel().\n",
            "  estimator.fit(X_train, y_train, **fit_params)\n",
            "/usr/local/lib/python3.7/dist-packages/sklearn/model_selection/_validation.py:680: DataConversionWarning: A column-vector y was passed when a 1d array was expected. Please change the shape of y to (n_samples,), for example using ravel().\n",
            "  estimator.fit(X_train, y_train, **fit_params)\n",
            "/usr/local/lib/python3.7/dist-packages/sklearn/model_selection/_validation.py:680: DataConversionWarning: A column-vector y was passed when a 1d array was expected. Please change the shape of y to (n_samples,), for example using ravel().\n",
            "  estimator.fit(X_train, y_train, **fit_params)\n",
            "/usr/local/lib/python3.7/dist-packages/sklearn/model_selection/_validation.py:680: DataConversionWarning: A column-vector y was passed when a 1d array was expected. Please change the shape of y to (n_samples,), for example using ravel().\n",
            "  estimator.fit(X_train, y_train, **fit_params)\n",
            "/usr/local/lib/python3.7/dist-packages/sklearn/model_selection/_validation.py:680: DataConversionWarning: A column-vector y was passed when a 1d array was expected. Please change the shape of y to (n_samples,), for example using ravel().\n",
            "  estimator.fit(X_train, y_train, **fit_params)\n",
            "/usr/local/lib/python3.7/dist-packages/sklearn/model_selection/_validation.py:680: DataConversionWarning: A column-vector y was passed when a 1d array was expected. Please change the shape of y to (n_samples,), for example using ravel().\n",
            "  estimator.fit(X_train, y_train, **fit_params)\n",
            "/usr/local/lib/python3.7/dist-packages/sklearn/model_selection/_validation.py:680: DataConversionWarning: A column-vector y was passed when a 1d array was expected. Please change the shape of y to (n_samples,), for example using ravel().\n",
            "  estimator.fit(X_train, y_train, **fit_params)\n",
            "/usr/local/lib/python3.7/dist-packages/sklearn/model_selection/_validation.py:680: DataConversionWarning: A column-vector y was passed when a 1d array was expected. Please change the shape of y to (n_samples,), for example using ravel().\n",
            "  estimator.fit(X_train, y_train, **fit_params)\n",
            "/usr/local/lib/python3.7/dist-packages/sklearn/model_selection/_validation.py:680: DataConversionWarning: A column-vector y was passed when a 1d array was expected. Please change the shape of y to (n_samples,), for example using ravel().\n",
            "  estimator.fit(X_train, y_train, **fit_params)\n",
            "/usr/local/lib/python3.7/dist-packages/sklearn/model_selection/_validation.py:680: DataConversionWarning: A column-vector y was passed when a 1d array was expected. Please change the shape of y to (n_samples,), for example using ravel().\n",
            "  estimator.fit(X_train, y_train, **fit_params)\n",
            "/usr/local/lib/python3.7/dist-packages/sklearn/model_selection/_validation.py:680: DataConversionWarning: A column-vector y was passed when a 1d array was expected. Please change the shape of y to (n_samples,), for example using ravel().\n",
            "  estimator.fit(X_train, y_train, **fit_params)\n",
            "/usr/local/lib/python3.7/dist-packages/sklearn/model_selection/_validation.py:680: DataConversionWarning: A column-vector y was passed when a 1d array was expected. Please change the shape of y to (n_samples,), for example using ravel().\n",
            "  estimator.fit(X_train, y_train, **fit_params)\n",
            "/usr/local/lib/python3.7/dist-packages/sklearn/model_selection/_validation.py:680: DataConversionWarning: A column-vector y was passed when a 1d array was expected. Please change the shape of y to (n_samples,), for example using ravel().\n",
            "  estimator.fit(X_train, y_train, **fit_params)\n",
            "/usr/local/lib/python3.7/dist-packages/sklearn/model_selection/_validation.py:680: DataConversionWarning: A column-vector y was passed when a 1d array was expected. Please change the shape of y to (n_samples,), for example using ravel().\n",
            "  estimator.fit(X_train, y_train, **fit_params)\n",
            "/usr/local/lib/python3.7/dist-packages/sklearn/model_selection/_search.py:926: DataConversionWarning: A column-vector y was passed when a 1d array was expected. Please change the shape of y to (n_samples,), for example using ravel().\n",
            "  self.best_estimator_.fit(X, y, **fit_params)\n"
          ]
        },
        {
          "output_type": "execute_result",
          "data": {
            "text/plain": [
              "GridSearchCV(cv=2, estimator=RandomForestClassifier(random_state=123),\n",
              "             param_grid={'criterion': ['entropy', 'gini'],\n",
              "                         'max_features': ['auto', 'log2'],\n",
              "                         'n_estimators': [200, 500, 1000]})"
            ]
          },
          "metadata": {},
          "execution_count": 354
        }
      ]
    },
    {
      "cell_type": "code",
      "metadata": {
        "colab": {
          "base_uri": "https://localhost:8080/"
        },
        "id": "ZxuLn_ga-J0w",
        "outputId": "129f0c5e-c991-4295-a555-ed7f51d7d450"
      },
      "source": [
        "CV_rfc.best_params_"
      ],
      "execution_count": null,
      "outputs": [
        {
          "output_type": "execute_result",
          "data": {
            "text/plain": [
              "{'criterion': 'gini', 'max_features': 'auto', 'n_estimators': 1000}"
            ]
          },
          "metadata": {},
          "execution_count": 355
        }
      ]
    },
    {
      "cell_type": "code",
      "source": [
        "# get predictions from best model above\n",
        "pred_test = CV_rfc.predict(test_X)\n",
        "pred_train = CV_rfc.predict(train_X)"
      ],
      "metadata": {
        "id": "Kl2QSsM_1cfI"
      },
      "execution_count": null,
      "outputs": []
    },
    {
      "cell_type": "code",
      "source": [
        "print(\"Analysis Model RF\")\n",
        "print(\"\")\n",
        "print(\"Analysis Metric Eror Model Training\")\n",
        "from sklearn.metrics import classification_report\n",
        "target_names = ['Baik','Buruk']\n",
        "print(classification_report(train_Y, pred_train, target_names=target_names))\n",
        "from sklearn.metrics import confusion_matrix\n",
        "print('confusion_matrix : ')\n",
        "print(confusion_matrix(train_Y, pred_train))\n",
        "from sklearn.metrics import f1_score, accuracy_score\n",
        "print(\"accuracy_score : \", accuracy_score(train_Y, pred_train))\n",
        "print(\"f1_score macro : \",f1_score(train_Y, pred_train, average='macro'))\n",
        "print(\"f1_score micro : \",f1_score(train_Y, pred_train, average='micro'))\n",
        "print(\"f1_score weighted : \", f1_score(train_Y, pred_train, average='weighted'))\n",
        "print(\"f1_score : \", f1_score(train_Y, pred_train, average=None))\n",
        "print(\"\")\n",
        "print(\"\")\n",
        "print(\"Analysis Metric Eror Model Testing\")\n",
        "from sklearn.metrics import classification_report\n",
        "target_names = ['Baik','Buruk']\n",
        "print(classification_report(test_Y, pred_test, target_names=target_names))\n",
        "from sklearn.metrics import confusion_matrix\n",
        "print('confusion_matrix : ')\n",
        "print(confusion_matrix(test_Y, pred_test))\n",
        "from sklearn.metrics import f1_score\n",
        "print(\"accuracy_score : \", accuracy_score(test_Y, pred_test))\n",
        "print(\"f1_score macro : \",f1_score(test_Y, pred_test, average='macro'))\n",
        "print(\"f1_score micro : \",f1_score(test_Y, pred_test, average='micro'))\n",
        "print(\"f1_score weighted : \", f1_score(test_Y, pred_test, average='weighted'))\n",
        "print(\"f1_score : \", f1_score(test_Y, pred_test, average=None))"
      ],
      "metadata": {
        "colab": {
          "base_uri": "https://localhost:8080/"
        },
        "id": "jqd1h64Z1gvC",
        "outputId": "585d11cc-5dbc-46f8-ced7-18e9049767cd"
      },
      "execution_count": null,
      "outputs": [
        {
          "output_type": "stream",
          "name": "stdout",
          "text": [
            "Analysis Model RF\n",
            "\n",
            "Analysis Metric Eror Model Training\n",
            "              precision    recall  f1-score   support\n",
            "\n",
            "        Baik       1.00      1.00      1.00      1779\n",
            "       Buruk       1.00      1.00      1.00      1779\n",
            "\n",
            "    accuracy                           1.00      3558\n",
            "   macro avg       1.00      1.00      1.00      3558\n",
            "weighted avg       1.00      1.00      1.00      3558\n",
            "\n",
            "confusion_matrix : \n",
            "[[1779    0]\n",
            " [   0 1779]]\n",
            "accuracy_score :  1.0\n",
            "f1_score macro :  1.0\n",
            "f1_score micro :  1.0\n",
            "f1_score weighted :  1.0\n",
            "f1_score :  [1. 1.]\n",
            "\n",
            "\n",
            "Analysis Metric Eror Model Testing\n",
            "              precision    recall  f1-score   support\n",
            "\n",
            "        Baik       0.53      0.55      0.54        29\n",
            "       Buruk       0.97      0.97      0.97       451\n",
            "\n",
            "    accuracy                           0.94       480\n",
            "   macro avg       0.75      0.76      0.76       480\n",
            "weighted avg       0.94      0.94      0.94       480\n",
            "\n",
            "confusion_matrix : \n",
            "[[ 16  13]\n",
            " [ 14 437]]\n",
            "accuracy_score :  0.94375\n",
            "f1_score macro :  0.7562030888466675\n",
            "f1_score micro :  0.94375\n",
            "f1_score weighted :  0.944195479598939\n",
            "f1_score :  [0.54237288 0.9700333 ]\n"
          ]
        }
      ]
    },
    {
      "cell_type": "markdown",
      "metadata": {
        "id": "e056d08d"
      },
      "source": [
        "## XGBClassifier"
      ]
    },
    {
      "cell_type": "code",
      "execution_count": null,
      "metadata": {
        "id": "6e148fb7",
        "colab": {
          "base_uri": "https://localhost:8080/"
        },
        "outputId": "6c7a4560-2649-4c96-8f6a-9a3591fe8678"
      },
      "outputs": [
        {
          "output_type": "stream",
          "name": "stdout",
          "text": [
            "Fitting 5 folds for each of 8 candidates, totalling 40 fits\n"
          ]
        },
        {
          "output_type": "stream",
          "name": "stderr",
          "text": [
            "/usr/local/lib/python3.7/dist-packages/sklearn/preprocessing/_label.py:98: DataConversionWarning: A column-vector y was passed when a 1d array was expected. Please change the shape of y to (n_samples, ), for example using ravel().\n",
            "  y = column_or_1d(y, warn=True)\n",
            "/usr/local/lib/python3.7/dist-packages/sklearn/preprocessing/_label.py:133: DataConversionWarning: A column-vector y was passed when a 1d array was expected. Please change the shape of y to (n_samples, ), for example using ravel().\n",
            "  y = column_or_1d(y, warn=True)\n"
          ]
        },
        {
          "output_type": "stream",
          "name": "stdout",
          "text": [
            "[CV 1/5] END learning_rate=0.01, max_depth=3, subsample=0.5;, score=0.862 total time=   0.5s\n"
          ]
        },
        {
          "output_type": "stream",
          "name": "stderr",
          "text": [
            "/usr/local/lib/python3.7/dist-packages/sklearn/preprocessing/_label.py:98: DataConversionWarning: A column-vector y was passed when a 1d array was expected. Please change the shape of y to (n_samples, ), for example using ravel().\n",
            "  y = column_or_1d(y, warn=True)\n",
            "/usr/local/lib/python3.7/dist-packages/sklearn/preprocessing/_label.py:133: DataConversionWarning: A column-vector y was passed when a 1d array was expected. Please change the shape of y to (n_samples, ), for example using ravel().\n",
            "  y = column_or_1d(y, warn=True)\n"
          ]
        },
        {
          "output_type": "stream",
          "name": "stdout",
          "text": [
            "[CV 2/5] END learning_rate=0.01, max_depth=3, subsample=0.5;, score=0.851 total time=   0.4s\n"
          ]
        },
        {
          "output_type": "stream",
          "name": "stderr",
          "text": [
            "/usr/local/lib/python3.7/dist-packages/sklearn/preprocessing/_label.py:98: DataConversionWarning: A column-vector y was passed when a 1d array was expected. Please change the shape of y to (n_samples, ), for example using ravel().\n",
            "  y = column_or_1d(y, warn=True)\n",
            "/usr/local/lib/python3.7/dist-packages/sklearn/preprocessing/_label.py:133: DataConversionWarning: A column-vector y was passed when a 1d array was expected. Please change the shape of y to (n_samples, ), for example using ravel().\n",
            "  y = column_or_1d(y, warn=True)\n"
          ]
        },
        {
          "output_type": "stream",
          "name": "stdout",
          "text": [
            "[CV 3/5] END learning_rate=0.01, max_depth=3, subsample=0.5;, score=0.881 total time=   0.4s\n"
          ]
        },
        {
          "output_type": "stream",
          "name": "stderr",
          "text": [
            "/usr/local/lib/python3.7/dist-packages/sklearn/preprocessing/_label.py:98: DataConversionWarning: A column-vector y was passed when a 1d array was expected. Please change the shape of y to (n_samples, ), for example using ravel().\n",
            "  y = column_or_1d(y, warn=True)\n",
            "/usr/local/lib/python3.7/dist-packages/sklearn/preprocessing/_label.py:133: DataConversionWarning: A column-vector y was passed when a 1d array was expected. Please change the shape of y to (n_samples, ), for example using ravel().\n",
            "  y = column_or_1d(y, warn=True)\n"
          ]
        },
        {
          "output_type": "stream",
          "name": "stdout",
          "text": [
            "[CV 4/5] END learning_rate=0.01, max_depth=3, subsample=0.5;, score=0.872 total time=   0.4s\n"
          ]
        },
        {
          "output_type": "stream",
          "name": "stderr",
          "text": [
            "/usr/local/lib/python3.7/dist-packages/sklearn/preprocessing/_label.py:98: DataConversionWarning: A column-vector y was passed when a 1d array was expected. Please change the shape of y to (n_samples, ), for example using ravel().\n",
            "  y = column_or_1d(y, warn=True)\n",
            "/usr/local/lib/python3.7/dist-packages/sklearn/preprocessing/_label.py:133: DataConversionWarning: A column-vector y was passed when a 1d array was expected. Please change the shape of y to (n_samples, ), for example using ravel().\n",
            "  y = column_or_1d(y, warn=True)\n"
          ]
        },
        {
          "output_type": "stream",
          "name": "stdout",
          "text": [
            "[CV 5/5] END learning_rate=0.01, max_depth=3, subsample=0.5;, score=0.886 total time=   0.4s\n"
          ]
        },
        {
          "output_type": "stream",
          "name": "stderr",
          "text": [
            "/usr/local/lib/python3.7/dist-packages/sklearn/preprocessing/_label.py:98: DataConversionWarning: A column-vector y was passed when a 1d array was expected. Please change the shape of y to (n_samples, ), for example using ravel().\n",
            "  y = column_or_1d(y, warn=True)\n",
            "/usr/local/lib/python3.7/dist-packages/sklearn/preprocessing/_label.py:133: DataConversionWarning: A column-vector y was passed when a 1d array was expected. Please change the shape of y to (n_samples, ), for example using ravel().\n",
            "  y = column_or_1d(y, warn=True)\n"
          ]
        },
        {
          "output_type": "stream",
          "name": "stdout",
          "text": [
            "[CV 1/5] END learning_rate=0.01, max_depth=3, subsample=1.0;, score=0.862 total time=   0.4s\n"
          ]
        },
        {
          "output_type": "stream",
          "name": "stderr",
          "text": [
            "/usr/local/lib/python3.7/dist-packages/sklearn/preprocessing/_label.py:98: DataConversionWarning: A column-vector y was passed when a 1d array was expected. Please change the shape of y to (n_samples, ), for example using ravel().\n",
            "  y = column_or_1d(y, warn=True)\n",
            "/usr/local/lib/python3.7/dist-packages/sklearn/preprocessing/_label.py:133: DataConversionWarning: A column-vector y was passed when a 1d array was expected. Please change the shape of y to (n_samples, ), for example using ravel().\n",
            "  y = column_or_1d(y, warn=True)\n"
          ]
        },
        {
          "output_type": "stream",
          "name": "stdout",
          "text": [
            "[CV 2/5] END learning_rate=0.01, max_depth=3, subsample=1.0;, score=0.850 total time=   0.4s\n"
          ]
        },
        {
          "output_type": "stream",
          "name": "stderr",
          "text": [
            "/usr/local/lib/python3.7/dist-packages/sklearn/preprocessing/_label.py:98: DataConversionWarning: A column-vector y was passed when a 1d array was expected. Please change the shape of y to (n_samples, ), for example using ravel().\n",
            "  y = column_or_1d(y, warn=True)\n",
            "/usr/local/lib/python3.7/dist-packages/sklearn/preprocessing/_label.py:133: DataConversionWarning: A column-vector y was passed when a 1d array was expected. Please change the shape of y to (n_samples, ), for example using ravel().\n",
            "  y = column_or_1d(y, warn=True)\n"
          ]
        },
        {
          "output_type": "stream",
          "name": "stdout",
          "text": [
            "[CV 3/5] END learning_rate=0.01, max_depth=3, subsample=1.0;, score=0.871 total time=   0.5s\n"
          ]
        },
        {
          "output_type": "stream",
          "name": "stderr",
          "text": [
            "/usr/local/lib/python3.7/dist-packages/sklearn/preprocessing/_label.py:98: DataConversionWarning: A column-vector y was passed when a 1d array was expected. Please change the shape of y to (n_samples, ), for example using ravel().\n",
            "  y = column_or_1d(y, warn=True)\n",
            "/usr/local/lib/python3.7/dist-packages/sklearn/preprocessing/_label.py:133: DataConversionWarning: A column-vector y was passed when a 1d array was expected. Please change the shape of y to (n_samples, ), for example using ravel().\n",
            "  y = column_or_1d(y, warn=True)\n"
          ]
        },
        {
          "output_type": "stream",
          "name": "stdout",
          "text": [
            "[CV 4/5] END learning_rate=0.01, max_depth=3, subsample=1.0;, score=0.873 total time=   0.4s\n"
          ]
        },
        {
          "output_type": "stream",
          "name": "stderr",
          "text": [
            "/usr/local/lib/python3.7/dist-packages/sklearn/preprocessing/_label.py:98: DataConversionWarning: A column-vector y was passed when a 1d array was expected. Please change the shape of y to (n_samples, ), for example using ravel().\n",
            "  y = column_or_1d(y, warn=True)\n",
            "/usr/local/lib/python3.7/dist-packages/sklearn/preprocessing/_label.py:133: DataConversionWarning: A column-vector y was passed when a 1d array was expected. Please change the shape of y to (n_samples, ), for example using ravel().\n",
            "  y = column_or_1d(y, warn=True)\n"
          ]
        },
        {
          "output_type": "stream",
          "name": "stdout",
          "text": [
            "[CV 5/5] END learning_rate=0.01, max_depth=3, subsample=1.0;, score=0.878 total time=   0.4s\n"
          ]
        },
        {
          "output_type": "stream",
          "name": "stderr",
          "text": [
            "/usr/local/lib/python3.7/dist-packages/sklearn/preprocessing/_label.py:98: DataConversionWarning: A column-vector y was passed when a 1d array was expected. Please change the shape of y to (n_samples, ), for example using ravel().\n",
            "  y = column_or_1d(y, warn=True)\n",
            "/usr/local/lib/python3.7/dist-packages/sklearn/preprocessing/_label.py:133: DataConversionWarning: A column-vector y was passed when a 1d array was expected. Please change the shape of y to (n_samples, ), for example using ravel().\n",
            "  y = column_or_1d(y, warn=True)\n"
          ]
        },
        {
          "output_type": "stream",
          "name": "stdout",
          "text": [
            "[CV 1/5] END learning_rate=0.01, max_depth=5, subsample=0.5;, score=0.924 total time=   0.6s\n"
          ]
        },
        {
          "output_type": "stream",
          "name": "stderr",
          "text": [
            "/usr/local/lib/python3.7/dist-packages/sklearn/preprocessing/_label.py:98: DataConversionWarning: A column-vector y was passed when a 1d array was expected. Please change the shape of y to (n_samples, ), for example using ravel().\n",
            "  y = column_or_1d(y, warn=True)\n",
            "/usr/local/lib/python3.7/dist-packages/sklearn/preprocessing/_label.py:133: DataConversionWarning: A column-vector y was passed when a 1d array was expected. Please change the shape of y to (n_samples, ), for example using ravel().\n",
            "  y = column_or_1d(y, warn=True)\n"
          ]
        },
        {
          "output_type": "stream",
          "name": "stdout",
          "text": [
            "[CV 2/5] END learning_rate=0.01, max_depth=5, subsample=0.5;, score=0.902 total time=   0.6s\n"
          ]
        },
        {
          "output_type": "stream",
          "name": "stderr",
          "text": [
            "/usr/local/lib/python3.7/dist-packages/sklearn/preprocessing/_label.py:98: DataConversionWarning: A column-vector y was passed when a 1d array was expected. Please change the shape of y to (n_samples, ), for example using ravel().\n",
            "  y = column_or_1d(y, warn=True)\n",
            "/usr/local/lib/python3.7/dist-packages/sklearn/preprocessing/_label.py:133: DataConversionWarning: A column-vector y was passed when a 1d array was expected. Please change the shape of y to (n_samples, ), for example using ravel().\n",
            "  y = column_or_1d(y, warn=True)\n"
          ]
        },
        {
          "output_type": "stream",
          "name": "stdout",
          "text": [
            "[CV 3/5] END learning_rate=0.01, max_depth=5, subsample=0.5;, score=0.928 total time=   0.6s\n"
          ]
        },
        {
          "output_type": "stream",
          "name": "stderr",
          "text": [
            "/usr/local/lib/python3.7/dist-packages/sklearn/preprocessing/_label.py:98: DataConversionWarning: A column-vector y was passed when a 1d array was expected. Please change the shape of y to (n_samples, ), for example using ravel().\n",
            "  y = column_or_1d(y, warn=True)\n",
            "/usr/local/lib/python3.7/dist-packages/sklearn/preprocessing/_label.py:133: DataConversionWarning: A column-vector y was passed when a 1d array was expected. Please change the shape of y to (n_samples, ), for example using ravel().\n",
            "  y = column_or_1d(y, warn=True)\n"
          ]
        },
        {
          "output_type": "stream",
          "name": "stdout",
          "text": [
            "[CV 4/5] END learning_rate=0.01, max_depth=5, subsample=0.5;, score=0.916 total time=   0.6s\n"
          ]
        },
        {
          "output_type": "stream",
          "name": "stderr",
          "text": [
            "/usr/local/lib/python3.7/dist-packages/sklearn/preprocessing/_label.py:98: DataConversionWarning: A column-vector y was passed when a 1d array was expected. Please change the shape of y to (n_samples, ), for example using ravel().\n",
            "  y = column_or_1d(y, warn=True)\n",
            "/usr/local/lib/python3.7/dist-packages/sklearn/preprocessing/_label.py:133: DataConversionWarning: A column-vector y was passed when a 1d array was expected. Please change the shape of y to (n_samples, ), for example using ravel().\n",
            "  y = column_or_1d(y, warn=True)\n"
          ]
        },
        {
          "output_type": "stream",
          "name": "stdout",
          "text": [
            "[CV 5/5] END learning_rate=0.01, max_depth=5, subsample=0.5;, score=0.925 total time=   0.7s\n"
          ]
        },
        {
          "output_type": "stream",
          "name": "stderr",
          "text": [
            "/usr/local/lib/python3.7/dist-packages/sklearn/preprocessing/_label.py:98: DataConversionWarning: A column-vector y was passed when a 1d array was expected. Please change the shape of y to (n_samples, ), for example using ravel().\n",
            "  y = column_or_1d(y, warn=True)\n",
            "/usr/local/lib/python3.7/dist-packages/sklearn/preprocessing/_label.py:133: DataConversionWarning: A column-vector y was passed when a 1d array was expected. Please change the shape of y to (n_samples, ), for example using ravel().\n",
            "  y = column_or_1d(y, warn=True)\n"
          ]
        },
        {
          "output_type": "stream",
          "name": "stdout",
          "text": [
            "[CV 1/5] END learning_rate=0.01, max_depth=5, subsample=1.0;, score=0.914 total time=   0.7s\n"
          ]
        },
        {
          "output_type": "stream",
          "name": "stderr",
          "text": [
            "/usr/local/lib/python3.7/dist-packages/sklearn/preprocessing/_label.py:98: DataConversionWarning: A column-vector y was passed when a 1d array was expected. Please change the shape of y to (n_samples, ), for example using ravel().\n",
            "  y = column_or_1d(y, warn=True)\n",
            "/usr/local/lib/python3.7/dist-packages/sklearn/preprocessing/_label.py:133: DataConversionWarning: A column-vector y was passed when a 1d array was expected. Please change the shape of y to (n_samples, ), for example using ravel().\n",
            "  y = column_or_1d(y, warn=True)\n"
          ]
        },
        {
          "output_type": "stream",
          "name": "stdout",
          "text": [
            "[CV 2/5] END learning_rate=0.01, max_depth=5, subsample=1.0;, score=0.903 total time=   0.7s\n"
          ]
        },
        {
          "output_type": "stream",
          "name": "stderr",
          "text": [
            "/usr/local/lib/python3.7/dist-packages/sklearn/preprocessing/_label.py:98: DataConversionWarning: A column-vector y was passed when a 1d array was expected. Please change the shape of y to (n_samples, ), for example using ravel().\n",
            "  y = column_or_1d(y, warn=True)\n",
            "/usr/local/lib/python3.7/dist-packages/sklearn/preprocessing/_label.py:133: DataConversionWarning: A column-vector y was passed when a 1d array was expected. Please change the shape of y to (n_samples, ), for example using ravel().\n",
            "  y = column_or_1d(y, warn=True)\n"
          ]
        },
        {
          "output_type": "stream",
          "name": "stdout",
          "text": [
            "[CV 3/5] END learning_rate=0.01, max_depth=5, subsample=1.0;, score=0.914 total time=   0.7s\n"
          ]
        },
        {
          "output_type": "stream",
          "name": "stderr",
          "text": [
            "/usr/local/lib/python3.7/dist-packages/sklearn/preprocessing/_label.py:98: DataConversionWarning: A column-vector y was passed when a 1d array was expected. Please change the shape of y to (n_samples, ), for example using ravel().\n",
            "  y = column_or_1d(y, warn=True)\n",
            "/usr/local/lib/python3.7/dist-packages/sklearn/preprocessing/_label.py:133: DataConversionWarning: A column-vector y was passed when a 1d array was expected. Please change the shape of y to (n_samples, ), for example using ravel().\n",
            "  y = column_or_1d(y, warn=True)\n"
          ]
        },
        {
          "output_type": "stream",
          "name": "stdout",
          "text": [
            "[CV 4/5] END learning_rate=0.01, max_depth=5, subsample=1.0;, score=0.916 total time=   0.7s\n"
          ]
        },
        {
          "output_type": "stream",
          "name": "stderr",
          "text": [
            "/usr/local/lib/python3.7/dist-packages/sklearn/preprocessing/_label.py:98: DataConversionWarning: A column-vector y was passed when a 1d array was expected. Please change the shape of y to (n_samples, ), for example using ravel().\n",
            "  y = column_or_1d(y, warn=True)\n",
            "/usr/local/lib/python3.7/dist-packages/sklearn/preprocessing/_label.py:133: DataConversionWarning: A column-vector y was passed when a 1d array was expected. Please change the shape of y to (n_samples, ), for example using ravel().\n",
            "  y = column_or_1d(y, warn=True)\n"
          ]
        },
        {
          "output_type": "stream",
          "name": "stdout",
          "text": [
            "[CV 5/5] END learning_rate=0.01, max_depth=5, subsample=1.0;, score=0.913 total time=   0.7s\n"
          ]
        },
        {
          "output_type": "stream",
          "name": "stderr",
          "text": [
            "/usr/local/lib/python3.7/dist-packages/sklearn/preprocessing/_label.py:98: DataConversionWarning: A column-vector y was passed when a 1d array was expected. Please change the shape of y to (n_samples, ), for example using ravel().\n",
            "  y = column_or_1d(y, warn=True)\n",
            "/usr/local/lib/python3.7/dist-packages/sklearn/preprocessing/_label.py:133: DataConversionWarning: A column-vector y was passed when a 1d array was expected. Please change the shape of y to (n_samples, ), for example using ravel().\n",
            "  y = column_or_1d(y, warn=True)\n"
          ]
        },
        {
          "output_type": "stream",
          "name": "stdout",
          "text": [
            "[CV 1/5] END learning_rate=0.1, max_depth=3, subsample=0.5;, score=0.955 total time=   0.4s\n"
          ]
        },
        {
          "output_type": "stream",
          "name": "stderr",
          "text": [
            "/usr/local/lib/python3.7/dist-packages/sklearn/preprocessing/_label.py:98: DataConversionWarning: A column-vector y was passed when a 1d array was expected. Please change the shape of y to (n_samples, ), for example using ravel().\n",
            "  y = column_or_1d(y, warn=True)\n",
            "/usr/local/lib/python3.7/dist-packages/sklearn/preprocessing/_label.py:133: DataConversionWarning: A column-vector y was passed when a 1d array was expected. Please change the shape of y to (n_samples, ), for example using ravel().\n",
            "  y = column_or_1d(y, warn=True)\n"
          ]
        },
        {
          "output_type": "stream",
          "name": "stdout",
          "text": [
            "[CV 2/5] END learning_rate=0.1, max_depth=3, subsample=0.5;, score=0.958 total time=   0.4s\n"
          ]
        },
        {
          "output_type": "stream",
          "name": "stderr",
          "text": [
            "/usr/local/lib/python3.7/dist-packages/sklearn/preprocessing/_label.py:98: DataConversionWarning: A column-vector y was passed when a 1d array was expected. Please change the shape of y to (n_samples, ), for example using ravel().\n",
            "  y = column_or_1d(y, warn=True)\n",
            "/usr/local/lib/python3.7/dist-packages/sklearn/preprocessing/_label.py:133: DataConversionWarning: A column-vector y was passed when a 1d array was expected. Please change the shape of y to (n_samples, ), for example using ravel().\n",
            "  y = column_or_1d(y, warn=True)\n"
          ]
        },
        {
          "output_type": "stream",
          "name": "stdout",
          "text": [
            "[CV 3/5] END learning_rate=0.1, max_depth=3, subsample=0.5;, score=0.961 total time=   0.4s\n"
          ]
        },
        {
          "output_type": "stream",
          "name": "stderr",
          "text": [
            "/usr/local/lib/python3.7/dist-packages/sklearn/preprocessing/_label.py:98: DataConversionWarning: A column-vector y was passed when a 1d array was expected. Please change the shape of y to (n_samples, ), for example using ravel().\n",
            "  y = column_or_1d(y, warn=True)\n",
            "/usr/local/lib/python3.7/dist-packages/sklearn/preprocessing/_label.py:133: DataConversionWarning: A column-vector y was passed when a 1d array was expected. Please change the shape of y to (n_samples, ), for example using ravel().\n",
            "  y = column_or_1d(y, warn=True)\n"
          ]
        },
        {
          "output_type": "stream",
          "name": "stdout",
          "text": [
            "[CV 4/5] END learning_rate=0.1, max_depth=3, subsample=0.5;, score=0.959 total time=   0.4s\n"
          ]
        },
        {
          "output_type": "stream",
          "name": "stderr",
          "text": [
            "/usr/local/lib/python3.7/dist-packages/sklearn/preprocessing/_label.py:98: DataConversionWarning: A column-vector y was passed when a 1d array was expected. Please change the shape of y to (n_samples, ), for example using ravel().\n",
            "  y = column_or_1d(y, warn=True)\n",
            "/usr/local/lib/python3.7/dist-packages/sklearn/preprocessing/_label.py:133: DataConversionWarning: A column-vector y was passed when a 1d array was expected. Please change the shape of y to (n_samples, ), for example using ravel().\n",
            "  y = column_or_1d(y, warn=True)\n"
          ]
        },
        {
          "output_type": "stream",
          "name": "stdout",
          "text": [
            "[CV 5/5] END learning_rate=0.1, max_depth=3, subsample=0.5;, score=0.966 total time=   0.4s\n"
          ]
        },
        {
          "output_type": "stream",
          "name": "stderr",
          "text": [
            "/usr/local/lib/python3.7/dist-packages/sklearn/preprocessing/_label.py:98: DataConversionWarning: A column-vector y was passed when a 1d array was expected. Please change the shape of y to (n_samples, ), for example using ravel().\n",
            "  y = column_or_1d(y, warn=True)\n",
            "/usr/local/lib/python3.7/dist-packages/sklearn/preprocessing/_label.py:133: DataConversionWarning: A column-vector y was passed when a 1d array was expected. Please change the shape of y to (n_samples, ), for example using ravel().\n",
            "  y = column_or_1d(y, warn=True)\n"
          ]
        },
        {
          "output_type": "stream",
          "name": "stdout",
          "text": [
            "[CV 1/5] END learning_rate=0.1, max_depth=3, subsample=1.0;, score=0.951 total time=   0.4s\n"
          ]
        },
        {
          "output_type": "stream",
          "name": "stderr",
          "text": [
            "/usr/local/lib/python3.7/dist-packages/sklearn/preprocessing/_label.py:98: DataConversionWarning: A column-vector y was passed when a 1d array was expected. Please change the shape of y to (n_samples, ), for example using ravel().\n",
            "  y = column_or_1d(y, warn=True)\n",
            "/usr/local/lib/python3.7/dist-packages/sklearn/preprocessing/_label.py:133: DataConversionWarning: A column-vector y was passed when a 1d array was expected. Please change the shape of y to (n_samples, ), for example using ravel().\n",
            "  y = column_or_1d(y, warn=True)\n"
          ]
        },
        {
          "output_type": "stream",
          "name": "stdout",
          "text": [
            "[CV 2/5] END learning_rate=0.1, max_depth=3, subsample=1.0;, score=0.952 total time=   0.4s\n"
          ]
        },
        {
          "output_type": "stream",
          "name": "stderr",
          "text": [
            "/usr/local/lib/python3.7/dist-packages/sklearn/preprocessing/_label.py:98: DataConversionWarning: A column-vector y was passed when a 1d array was expected. Please change the shape of y to (n_samples, ), for example using ravel().\n",
            "  y = column_or_1d(y, warn=True)\n",
            "/usr/local/lib/python3.7/dist-packages/sklearn/preprocessing/_label.py:133: DataConversionWarning: A column-vector y was passed when a 1d array was expected. Please change the shape of y to (n_samples, ), for example using ravel().\n",
            "  y = column_or_1d(y, warn=True)\n"
          ]
        },
        {
          "output_type": "stream",
          "name": "stdout",
          "text": [
            "[CV 3/5] END learning_rate=0.1, max_depth=3, subsample=1.0;, score=0.956 total time=   0.4s\n"
          ]
        },
        {
          "output_type": "stream",
          "name": "stderr",
          "text": [
            "/usr/local/lib/python3.7/dist-packages/sklearn/preprocessing/_label.py:98: DataConversionWarning: A column-vector y was passed when a 1d array was expected. Please change the shape of y to (n_samples, ), for example using ravel().\n",
            "  y = column_or_1d(y, warn=True)\n",
            "/usr/local/lib/python3.7/dist-packages/sklearn/preprocessing/_label.py:133: DataConversionWarning: A column-vector y was passed when a 1d array was expected. Please change the shape of y to (n_samples, ), for example using ravel().\n",
            "  y = column_or_1d(y, warn=True)\n"
          ]
        },
        {
          "output_type": "stream",
          "name": "stdout",
          "text": [
            "[CV 4/5] END learning_rate=0.1, max_depth=3, subsample=1.0;, score=0.952 total time=   0.4s\n"
          ]
        },
        {
          "output_type": "stream",
          "name": "stderr",
          "text": [
            "/usr/local/lib/python3.7/dist-packages/sklearn/preprocessing/_label.py:98: DataConversionWarning: A column-vector y was passed when a 1d array was expected. Please change the shape of y to (n_samples, ), for example using ravel().\n",
            "  y = column_or_1d(y, warn=True)\n",
            "/usr/local/lib/python3.7/dist-packages/sklearn/preprocessing/_label.py:133: DataConversionWarning: A column-vector y was passed when a 1d array was expected. Please change the shape of y to (n_samples, ), for example using ravel().\n",
            "  y = column_or_1d(y, warn=True)\n"
          ]
        },
        {
          "output_type": "stream",
          "name": "stdout",
          "text": [
            "[CV 5/5] END learning_rate=0.1, max_depth=3, subsample=1.0;, score=0.965 total time=   0.4s\n"
          ]
        },
        {
          "output_type": "stream",
          "name": "stderr",
          "text": [
            "/usr/local/lib/python3.7/dist-packages/sklearn/preprocessing/_label.py:98: DataConversionWarning: A column-vector y was passed when a 1d array was expected. Please change the shape of y to (n_samples, ), for example using ravel().\n",
            "  y = column_or_1d(y, warn=True)\n",
            "/usr/local/lib/python3.7/dist-packages/sklearn/preprocessing/_label.py:133: DataConversionWarning: A column-vector y was passed when a 1d array was expected. Please change the shape of y to (n_samples, ), for example using ravel().\n",
            "  y = column_or_1d(y, warn=True)\n"
          ]
        },
        {
          "output_type": "stream",
          "name": "stdout",
          "text": [
            "[CV 1/5] END learning_rate=0.1, max_depth=5, subsample=0.5;, score=0.978 total time=   0.6s\n"
          ]
        },
        {
          "output_type": "stream",
          "name": "stderr",
          "text": [
            "/usr/local/lib/python3.7/dist-packages/sklearn/preprocessing/_label.py:98: DataConversionWarning: A column-vector y was passed when a 1d array was expected. Please change the shape of y to (n_samples, ), for example using ravel().\n",
            "  y = column_or_1d(y, warn=True)\n",
            "/usr/local/lib/python3.7/dist-packages/sklearn/preprocessing/_label.py:133: DataConversionWarning: A column-vector y was passed when a 1d array was expected. Please change the shape of y to (n_samples, ), for example using ravel().\n",
            "  y = column_or_1d(y, warn=True)\n"
          ]
        },
        {
          "output_type": "stream",
          "name": "stdout",
          "text": [
            "[CV 2/5] END learning_rate=0.1, max_depth=5, subsample=0.5;, score=0.975 total time=   0.6s\n"
          ]
        },
        {
          "output_type": "stream",
          "name": "stderr",
          "text": [
            "/usr/local/lib/python3.7/dist-packages/sklearn/preprocessing/_label.py:98: DataConversionWarning: A column-vector y was passed when a 1d array was expected. Please change the shape of y to (n_samples, ), for example using ravel().\n",
            "  y = column_or_1d(y, warn=True)\n",
            "/usr/local/lib/python3.7/dist-packages/sklearn/preprocessing/_label.py:133: DataConversionWarning: A column-vector y was passed when a 1d array was expected. Please change the shape of y to (n_samples, ), for example using ravel().\n",
            "  y = column_or_1d(y, warn=True)\n"
          ]
        },
        {
          "output_type": "stream",
          "name": "stdout",
          "text": [
            "[CV 3/5] END learning_rate=0.1, max_depth=5, subsample=0.5;, score=0.976 total time=   0.7s\n"
          ]
        },
        {
          "output_type": "stream",
          "name": "stderr",
          "text": [
            "/usr/local/lib/python3.7/dist-packages/sklearn/preprocessing/_label.py:98: DataConversionWarning: A column-vector y was passed when a 1d array was expected. Please change the shape of y to (n_samples, ), for example using ravel().\n",
            "  y = column_or_1d(y, warn=True)\n",
            "/usr/local/lib/python3.7/dist-packages/sklearn/preprocessing/_label.py:133: DataConversionWarning: A column-vector y was passed when a 1d array was expected. Please change the shape of y to (n_samples, ), for example using ravel().\n",
            "  y = column_or_1d(y, warn=True)\n"
          ]
        },
        {
          "output_type": "stream",
          "name": "stdout",
          "text": [
            "[CV 4/5] END learning_rate=0.1, max_depth=5, subsample=0.5;, score=0.972 total time=   0.6s\n"
          ]
        },
        {
          "output_type": "stream",
          "name": "stderr",
          "text": [
            "/usr/local/lib/python3.7/dist-packages/sklearn/preprocessing/_label.py:98: DataConversionWarning: A column-vector y was passed when a 1d array was expected. Please change the shape of y to (n_samples, ), for example using ravel().\n",
            "  y = column_or_1d(y, warn=True)\n",
            "/usr/local/lib/python3.7/dist-packages/sklearn/preprocessing/_label.py:133: DataConversionWarning: A column-vector y was passed when a 1d array was expected. Please change the shape of y to (n_samples, ), for example using ravel().\n",
            "  y = column_or_1d(y, warn=True)\n"
          ]
        },
        {
          "output_type": "stream",
          "name": "stdout",
          "text": [
            "[CV 5/5] END learning_rate=0.1, max_depth=5, subsample=0.5;, score=0.976 total time=   0.7s\n"
          ]
        },
        {
          "output_type": "stream",
          "name": "stderr",
          "text": [
            "/usr/local/lib/python3.7/dist-packages/sklearn/preprocessing/_label.py:98: DataConversionWarning: A column-vector y was passed when a 1d array was expected. Please change the shape of y to (n_samples, ), for example using ravel().\n",
            "  y = column_or_1d(y, warn=True)\n",
            "/usr/local/lib/python3.7/dist-packages/sklearn/preprocessing/_label.py:133: DataConversionWarning: A column-vector y was passed when a 1d array was expected. Please change the shape of y to (n_samples, ), for example using ravel().\n",
            "  y = column_or_1d(y, warn=True)\n"
          ]
        },
        {
          "output_type": "stream",
          "name": "stdout",
          "text": [
            "[CV 1/5] END learning_rate=0.1, max_depth=5, subsample=1.0;, score=0.965 total time=   0.7s\n"
          ]
        },
        {
          "output_type": "stream",
          "name": "stderr",
          "text": [
            "/usr/local/lib/python3.7/dist-packages/sklearn/preprocessing/_label.py:98: DataConversionWarning: A column-vector y was passed when a 1d array was expected. Please change the shape of y to (n_samples, ), for example using ravel().\n",
            "  y = column_or_1d(y, warn=True)\n",
            "/usr/local/lib/python3.7/dist-packages/sklearn/preprocessing/_label.py:133: DataConversionWarning: A column-vector y was passed when a 1d array was expected. Please change the shape of y to (n_samples, ), for example using ravel().\n",
            "  y = column_or_1d(y, warn=True)\n"
          ]
        },
        {
          "output_type": "stream",
          "name": "stdout",
          "text": [
            "[CV 2/5] END learning_rate=0.1, max_depth=5, subsample=1.0;, score=0.978 total time=   0.7s\n"
          ]
        },
        {
          "output_type": "stream",
          "name": "stderr",
          "text": [
            "/usr/local/lib/python3.7/dist-packages/sklearn/preprocessing/_label.py:98: DataConversionWarning: A column-vector y was passed when a 1d array was expected. Please change the shape of y to (n_samples, ), for example using ravel().\n",
            "  y = column_or_1d(y, warn=True)\n",
            "/usr/local/lib/python3.7/dist-packages/sklearn/preprocessing/_label.py:133: DataConversionWarning: A column-vector y was passed when a 1d array was expected. Please change the shape of y to (n_samples, ), for example using ravel().\n",
            "  y = column_or_1d(y, warn=True)\n"
          ]
        },
        {
          "output_type": "stream",
          "name": "stdout",
          "text": [
            "[CV 3/5] END learning_rate=0.1, max_depth=5, subsample=1.0;, score=0.973 total time=   0.7s\n"
          ]
        },
        {
          "output_type": "stream",
          "name": "stderr",
          "text": [
            "/usr/local/lib/python3.7/dist-packages/sklearn/preprocessing/_label.py:98: DataConversionWarning: A column-vector y was passed when a 1d array was expected. Please change the shape of y to (n_samples, ), for example using ravel().\n",
            "  y = column_or_1d(y, warn=True)\n",
            "/usr/local/lib/python3.7/dist-packages/sklearn/preprocessing/_label.py:133: DataConversionWarning: A column-vector y was passed when a 1d array was expected. Please change the shape of y to (n_samples, ), for example using ravel().\n",
            "  y = column_or_1d(y, warn=True)\n"
          ]
        },
        {
          "output_type": "stream",
          "name": "stdout",
          "text": [
            "[CV 4/5] END learning_rate=0.1, max_depth=5, subsample=1.0;, score=0.973 total time=   0.7s\n"
          ]
        },
        {
          "output_type": "stream",
          "name": "stderr",
          "text": [
            "/usr/local/lib/python3.7/dist-packages/sklearn/preprocessing/_label.py:98: DataConversionWarning: A column-vector y was passed when a 1d array was expected. Please change the shape of y to (n_samples, ), for example using ravel().\n",
            "  y = column_or_1d(y, warn=True)\n",
            "/usr/local/lib/python3.7/dist-packages/sklearn/preprocessing/_label.py:133: DataConversionWarning: A column-vector y was passed when a 1d array was expected. Please change the shape of y to (n_samples, ), for example using ravel().\n",
            "  y = column_or_1d(y, warn=True)\n"
          ]
        },
        {
          "output_type": "stream",
          "name": "stdout",
          "text": [
            "[CV 5/5] END learning_rate=0.1, max_depth=5, subsample=1.0;, score=0.975 total time=   0.7s\n"
          ]
        },
        {
          "output_type": "stream",
          "name": "stderr",
          "text": [
            "/usr/local/lib/python3.7/dist-packages/sklearn/preprocessing/_label.py:98: DataConversionWarning: A column-vector y was passed when a 1d array was expected. Please change the shape of y to (n_samples, ), for example using ravel().\n",
            "  y = column_or_1d(y, warn=True)\n",
            "/usr/local/lib/python3.7/dist-packages/sklearn/preprocessing/_label.py:133: DataConversionWarning: A column-vector y was passed when a 1d array was expected. Please change the shape of y to (n_samples, ), for example using ravel().\n",
            "  y = column_or_1d(y, warn=True)\n"
          ]
        }
      ],
      "source": [
        "from xgboost import XGBClassifier\n",
        "from sklearn import svm\n",
        "from sklearn.model_selection import GridSearchCV\n",
        "\n",
        "# defining parameter range\n",
        "param_grid = {\"learning_rate\": [0.01, 0.1],\n",
        "    \"max_depth\":[3,5],\n",
        "    \"subsample\":[0.5, 1.0],}\n",
        "\n",
        "grid = GridSearchCV(XGBClassifier(), param_grid, refit = True, verbose = 3)\n",
        "\n",
        "# fitting the model for grid search\n",
        "grid.fit(train_X, train_Y)\n",
        "\n",
        "# get predictions from best model above\n",
        "pred_test = grid.predict(test_X)\n",
        "pred_train = grid.predict(train_X)"
      ]
    },
    {
      "cell_type": "code",
      "execution_count": null,
      "metadata": {
        "colab": {
          "base_uri": "https://localhost:8080/"
        },
        "id": "2a7f5817",
        "outputId": "519c0420-a61b-4ec3-e6c8-8724bfa44983"
      },
      "outputs": [
        {
          "output_type": "stream",
          "name": "stdout",
          "text": [
            "Analysis Model XGBClassifier\n",
            "\n",
            "Analysis Metric Eror Model Training\n",
            "              precision    recall  f1-score   support\n",
            "\n",
            " Belum_Sehat       1.00      1.00      1.00      1779\n",
            "       Sehat       1.00      1.00      1.00      1779\n",
            "\n",
            "    accuracy                           1.00      3558\n",
            "   macro avg       1.00      1.00      1.00      3558\n",
            "weighted avg       1.00      1.00      1.00      3558\n",
            "\n",
            "confusion_matrix : \n",
            "[[1779    0]\n",
            " [   8 1771]]\n",
            "accuracy_score :  0.9977515458122541\n",
            "f1_score macro :  0.9977515344450325\n",
            "f1_score micro :  0.9977515458122541\n",
            "f1_score weighted :  0.9977515344450324\n",
            "f1_score :  [0.99775659 0.99774648]\n",
            "\n",
            "\n",
            "Analysis Metric Eror Model Testing\n",
            "              precision    recall  f1-score   support\n",
            "\n",
            " Belum_Sehat       0.52      0.86      0.65        29\n",
            "       Sehat       0.99      0.95      0.97       451\n",
            "\n",
            "    accuracy                           0.94       480\n",
            "   macro avg       0.76      0.91      0.81       480\n",
            "weighted avg       0.96      0.94      0.95       480\n",
            "\n",
            "confusion_matrix : \n",
            "[[ 25   4]\n",
            " [ 23 428]]\n",
            "accuracy_score :  0.94375\n",
            "f1_score macro :  0.8093865364533541\n",
            "f1_score micro :  0.94375\n",
            "f1_score weighted :  0.9500847538644821\n",
            "f1_score :  [0.64935065 0.96942242]\n"
          ]
        }
      ],
      "source": [
        "print(\"Analysis Model XGBClassifier\")\n",
        "print(\"\")\n",
        "print(\"Analysis Metric Eror Model Training\")\n",
        "from sklearn.metrics import classification_report\n",
        "target_names = ['Belum_Sehat','Sehat']\n",
        "print(classification_report(train_Y, pred_train, target_names=target_names))\n",
        "from sklearn.metrics import confusion_matrix\n",
        "print('confusion_matrix : ')\n",
        "print(confusion_matrix(train_Y, pred_train))\n",
        "from sklearn.metrics import f1_score, accuracy_score\n",
        "print(\"accuracy_score : \", accuracy_score(train_Y, pred_train))\n",
        "print(\"f1_score macro : \",f1_score(train_Y, pred_train, average='macro'))\n",
        "print(\"f1_score micro : \",f1_score(train_Y, pred_train, average='micro'))\n",
        "print(\"f1_score weighted : \", f1_score(train_Y, pred_train, average='weighted'))\n",
        "print(\"f1_score : \", f1_score(train_Y, pred_train, average=None))\n",
        "print(\"\")\n",
        "print(\"\")\n",
        "print(\"Analysis Metric Eror Model Testing\")\n",
        "from sklearn.metrics import classification_report\n",
        "target_names = ['Belum_Sehat','Sehat']\n",
        "print(classification_report(test_Y, pred_test, target_names=target_names))\n",
        "from sklearn.metrics import confusion_matrix\n",
        "print('confusion_matrix : ')\n",
        "print(confusion_matrix(test_Y, pred_test))\n",
        "from sklearn.metrics import f1_score\n",
        "print(\"accuracy_score : \", accuracy_score(test_Y, pred_test))\n",
        "print(\"f1_score macro : \",f1_score(test_Y, pred_test, average='macro'))\n",
        "print(\"f1_score micro : \",f1_score(test_Y, pred_test, average='micro'))\n",
        "print(\"f1_score weighted : \", f1_score(test_Y, pred_test, average='weighted'))\n",
        "print(\"f1_score : \", f1_score(test_Y, pred_test, average=None))"
      ]
    },
    {
      "cell_type": "code",
      "source": [
        "grid.best_params_"
      ],
      "metadata": {
        "colab": {
          "base_uri": "https://localhost:8080/"
        },
        "id": "ruyfiXcNHfcI",
        "outputId": "285f801c-661b-497d-9589-e81a7befd848"
      },
      "execution_count": null,
      "outputs": [
        {
          "output_type": "execute_result",
          "data": {
            "text/plain": [
              "{'learning_rate': 0.1, 'max_depth': 5, 'subsample': 0.5}"
            ]
          },
          "metadata": {},
          "execution_count": 76
        }
      ]
    },
    {
      "cell_type": "code",
      "source": [
        "model_gb = XGBClassifier(learning_rate= 0.1, max_depth= 5, subsample= 0.5)\n",
        "model_gb.fit(train_X, train_Y)"
      ],
      "metadata": {
        "colab": {
          "base_uri": "https://localhost:8080/"
        },
        "id": "6Nm5BmBQ0oPP",
        "outputId": "745e893c-9c84-4d00-d68a-28f87b79dd2b"
      },
      "execution_count": null,
      "outputs": [
        {
          "output_type": "execute_result",
          "data": {
            "text/plain": [
              "XGBClassifier(max_depth=5, subsample=0.5)"
            ]
          },
          "metadata": {},
          "execution_count": 85
        }
      ]
    },
    {
      "cell_type": "code",
      "source": [
        "imp = model_gb.get_booster().get_score(importance_type='gain')"
      ],
      "metadata": {
        "id": "m3DJLF5qKQr1"
      },
      "execution_count": null,
      "outputs": []
    },
    {
      "cell_type": "code",
      "source": [
        "imp.items()"
      ],
      "metadata": {
        "colab": {
          "base_uri": "https://localhost:8080/"
        },
        "id": "-Sghd7Aj0LD3",
        "outputId": "3f59ed02-0beb-42e3-bc1c-d88d32af9f9b"
      },
      "execution_count": null,
      "outputs": [
        {
          "output_type": "execute_result",
          "data": {
            "text/plain": [
              "dict_items([('LABA_RUGI_2021', 35.580782169189185), ('KAS_2020', 2.6773643003975), ('LIABILITAS_2020', 5.0843801485683455), ('MODAL_2020', 13.827949888456315), ('PENJUALAN_2021', 8.202867904860272), ('LIABILITAS_2021', 8.447950753585202), ('RATIO_BEBAN-PENJUALAN_2020', 9.227518068697064), ('RATIO_BEBAN-PENJUALAN_2021', 8.609873398219689), ('SUMBER_LABA_UTAMA_2021', 17.5521420565625), ('PENJUALAN_2020', 9.239056578094148), ('NPM_2020', 4.075736277771795), ('MODAL_2021', 10.090759033535075), ('ASET_2021', 3.1471778734166658), ('ROA_2020', 3.9236297114347822), ('ROA_2021', 6.888248779222222), ('KAS_2021', 2.6972289994864878), ('ASET_2020', 3.6386573427702125), ('SUMBER_LABA_UTAMA_2020', 2.426794969823529), ('LABA_RUGI_2020', 2.103679542670588), ('NPM_2021', 2.5010854204000013), ('STATUS_LABA_RUGI_2020', 4.56435569)])"
            ]
          },
          "metadata": {},
          "execution_count": 87
        }
      ]
    },
    {
      "cell_type": "code",
      "source": [
        "variable = []\n",
        "importance = []\n",
        "for key, data_list in imp.items():\n",
        "    variable.append(key)\n",
        "    importance.append(data_list)"
      ],
      "metadata": {
        "id": "soWwq7wq1Jtb"
      },
      "execution_count": null,
      "outputs": []
    },
    {
      "cell_type": "code",
      "source": [
        "variable"
      ],
      "metadata": {
        "colab": {
          "base_uri": "https://localhost:8080/"
        },
        "id": "S8bv4b1i1X3J",
        "outputId": "4632edd8-38b9-49a7-a146-eae9eec820e0"
      },
      "execution_count": null,
      "outputs": [
        {
          "output_type": "execute_result",
          "data": {
            "text/plain": [
              "['LABA_RUGI_2021',\n",
              " 'KAS_2020',\n",
              " 'LIABILITAS_2020',\n",
              " 'MODAL_2020',\n",
              " 'PENJUALAN_2021',\n",
              " 'LIABILITAS_2021',\n",
              " 'RATIO_BEBAN-PENJUALAN_2020',\n",
              " 'RATIO_BEBAN-PENJUALAN_2021',\n",
              " 'SUMBER_LABA_UTAMA_2021',\n",
              " 'PENJUALAN_2020',\n",
              " 'NPM_2020',\n",
              " 'MODAL_2021',\n",
              " 'ASET_2021',\n",
              " 'ROA_2020',\n",
              " 'ROA_2021',\n",
              " 'KAS_2021',\n",
              " 'ASET_2020',\n",
              " 'SUMBER_LABA_UTAMA_2020',\n",
              " 'LABA_RUGI_2020',\n",
              " 'NPM_2021',\n",
              " 'STATUS_LABA_RUGI_2020']"
            ]
          },
          "metadata": {},
          "execution_count": 90
        }
      ]
    },
    {
      "cell_type": "code",
      "source": [
        "coefs = pd.DataFrame(importance, columns=['Importance'], index=variable)\n",
        "coefs = coefs.sort_values(by=['Importance'], ascending=False)\n",
        "coefs.plot(kind='bar', figsize=(15,5))\n",
        "plt.title('XGBOOST')\n",
        "plt.subplots_adjust(left=0.3)"
      ],
      "metadata": {
        "colab": {
          "base_uri": "https://localhost:8080/",
          "height": 485
        },
        "id": "B2vyvjE61fJV",
        "outputId": "0cea144b-1664-4c53-e3d6-8b74296f57c8"
      },
      "execution_count": null,
      "outputs": [
        {
          "output_type": "display_data",
          "data": {
            "text/plain": [
              "<Figure size 1080x360 with 1 Axes>"
            ],
            "image/png": "[encoded data removed]"
          },
          "metadata": {
            "needs_background": "light"
          }
        }
      ]
    },
    {
      "cell_type": "code",
      "source": [],
      "metadata": {
        "id": "9GdAEBmm18Vg"
      },
      "execution_count": null,
      "outputs": []
    }
  ]
}